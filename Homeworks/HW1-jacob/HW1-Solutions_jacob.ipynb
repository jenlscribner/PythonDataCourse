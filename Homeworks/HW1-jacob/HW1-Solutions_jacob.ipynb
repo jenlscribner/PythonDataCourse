{
 "cells": [
  {
   "cell_type": "markdown",
   "metadata": {},
   "source": [
    "# HW 1 - Solutions"
   ]
  },
  {
   "cell_type": "markdown",
   "metadata": {},
   "source": [
    "# Part 1: Working with lists"
   ]
  },
  {
   "cell_type": "code",
   "execution_count": 1,
   "metadata": {},
   "outputs": [],
   "source": [
    "a = [1,3,5,7,9,11,13,15]\n",
    "b = [2,4,6,8,10,12,14,16]"
   ]
  },
  {
   "cell_type": "markdown",
   "metadata": {},
   "source": [
    "### a) Create a list “c” that contains all of the elements from both a and b (many ways to do this) in any\n",
    "order. "
   ]
  },
  {
   "cell_type": "code",
   "execution_count": 2,
   "metadata": {},
   "outputs": [
    {
     "name": "stdout",
     "output_type": "stream",
     "text": [
      "[[1, 3, 5, 7, 9, 11, 13, 15], [2, 4, 6, 8, 10, 12, 14, 16]]\n"
     ]
    }
   ],
   "source": [
    "# appending to empty list\n",
    "c =[]\n",
    "c.append(a)\n",
    "c.append(b)\n",
    "print(c)"
   ]
  },
  {
   "cell_type": "code",
   "execution_count": 3,
   "metadata": {},
   "outputs": [
    {
     "name": "stdout",
     "output_type": "stream",
     "text": [
      "[1, 3, 5, 7, 9, 11, 13, 15, 2, 4, 6, 8, 10, 12, 14, 16]\n"
     ]
    }
   ],
   "source": [
    "# using extend instead of append\n",
    "c = []\n",
    "c.extend(a)\n",
    "c.extend(b)\n",
    "print(c)"
   ]
  },
  {
   "cell_type": "code",
   "execution_count": 4,
   "metadata": {},
   "outputs": [
    {
     "name": "stdout",
     "output_type": "stream",
     "text": [
      "c:  [1, 3, 5, 7, 9, 11, 13, 15, 2, 4, 6, 8, 10, 12, 14, 16]\n"
     ]
    }
   ],
   "source": [
    "# Using two for loops\n",
    "c = []\n",
    "for element in a:\n",
    "    c.append(element)\n",
    "for element in b:\n",
    "    c.append(element)\n",
    "    \n",
    "print('c: ',c)"
   ]
  },
  {
   "cell_type": "code",
   "execution_count": 5,
   "metadata": {},
   "outputs": [
    {
     "name": "stdout",
     "output_type": "stream",
     "text": [
      "c:  [1, 3, 5, 7, 9, 11, 13, 15, 2, 4, 6, 8, 10, 12, 14, 16]\n"
     ]
    }
   ],
   "source": [
    "# this is the simplest way\n",
    "c = a+b\n",
    "print('c: ',c)"
   ]
  },
  {
   "cell_type": "markdown",
   "metadata": {},
   "source": [
    "### b) Using slicing techniques, create a list “d” that contains all of the elements from a and b in numerical order\n",
    "* HINT 1: You’ll need to create an empty list “c” before you can assign elements to it.\n",
    "* HINT 2: If you’re going to assign values to this list using slicing, you’ll want it to be full of the same number of [None] values as you ultimately expect to fill it with. Try c = [None] *\n",
    "______ <- length you’ll want to the list to eventually be. Is there a way to find this value\n",
    "using len( ) rather than “hard-coding” it?"
   ]
  },
  {
   "cell_type": "code",
   "execution_count": 6,
   "metadata": {},
   "outputs": [
    {
     "name": "stdout",
     "output_type": "stream",
     "text": [
      "d:  [0, 0, 0, 0, 0, 0, 0, 0, 0, 0, 0, 0, 0, 0, 0, 0]\n",
      "d:  [1, 0, 3, 0, 5, 0, 7, 0, 9, 0, 11, 0, 13, 0, 15, 0]\n",
      "d:  [1, 2, 3, 4, 5, 6, 7, 8, 9, 10, 11, 12, 13, 14, 15, 16]\n"
     ]
    }
   ],
   "source": [
    "d = [0]*len(a+b)\n",
    "print('d: ',d)\n",
    "\n",
    "d[0::2] = a\n",
    "print('d: ',d)\n",
    "\n",
    "d[1::2] = b\n",
    "print('d: ',d)"
   ]
  },
  {
   "cell_type": "markdown",
   "metadata": {},
   "source": [
    "### c) Using a for loop, create a list “e” that contains all of the elements of a and b in numerical order\n",
    "-HINT 1: You’ll need to create an empty list “c” before you can assign elements to it!\n",
    "-HINT 2: Are there any list-associated methods that would make this easier?"
   ]
  },
  {
   "cell_type": "code",
   "execution_count": 29,
   "metadata": {},
   "outputs": [
    {
     "name": "stdout",
     "output_type": "stream",
     "text": [
      "[1, 2, 3, 4, 5, 6, 7, 8, 9, 10, 11, 12, 13, 14, 15, 16]\n"
     ]
    }
   ],
   "source": [
    "# this uses zip and just a and b\n",
    "\n",
    "d = []\n",
    "for aa,bb in zip(a,b):\n",
    "    d.append(aa)\n",
    "    d.append(bb)\n",
    "    \n",
    "print(d)"
   ]
  },
  {
   "cell_type": "code",
   "execution_count": 82,
   "metadata": {},
   "outputs": [
    {
     "name": "stdout",
     "output_type": "stream",
     "text": [
      "d:  [1, 2, 3, 4, 5, 6, 7, 8, 9, 10, 11, 12, 13, 14, 15, 16]\n"
     ]
    }
   ],
   "source": [
    "# this uses extend using c\n",
    "d = []\n",
    "\n",
    "for i in range(8):\n",
    "    d.extend(c[i::8])\n",
    "    \n",
    "print('d: ',d)"
   ]
  },
  {
   "cell_type": "markdown",
   "metadata": {},
   "source": [
    "### d.) Reassign “e” in a new window by writing a list comprehension that performs the same task as your for loop"
   ]
  },
  {
   "cell_type": "code",
   "execution_count": 7,
   "metadata": {},
   "outputs": [
    {
     "name": "stdout",
     "output_type": "stream",
     "text": [
      "e:  [[1, 2], [3, 4], [5, 6], [7, 8], [9, 10], [11, 12], [13, 14], [15, 16]]\n"
     ]
    }
   ],
   "source": [
    "e = [c[i::8] for i in range(8)]\n",
    "print('e: ',e)"
   ]
  },
  {
   "cell_type": "code",
   "execution_count": 8,
   "metadata": {},
   "outputs": [
    {
     "data": {
      "text/plain": [
       "[1, 2, 3, 4, 5, 6, 7, 8, 9, 10, 11, 12, 13, 14, 15, 16]"
      ]
     },
     "execution_count": 8,
     "metadata": {},
     "output_type": "execute_result"
    }
   ],
   "source": [
    "# this is messy and not clear\n",
    "e = [m for i in range(8) for m in c[i::8] ]\n",
    "e"
   ]
  },
  {
   "cell_type": "code",
   "execution_count": 9,
   "metadata": {},
   "outputs": [
    {
     "data": {
      "text/plain": [
       "[1, 2, 3, 4, 5, 6, 7, 8, 9, 10, 11, 12, 13, 14, 15, 16]"
      ]
     },
     "execution_count": 9,
     "metadata": {},
     "output_type": "execute_result"
    }
   ],
   "source": [
    "# this is a nested for loop with list comprehension\n",
    "e = [j for i in zip(a,b) for j in i]\n",
    "e"
   ]
  },
  {
   "cell_type": "code",
   "execution_count": 10,
   "metadata": {},
   "outputs": [
    {
     "name": "stdout",
     "output_type": "stream",
     "text": [
      "(1, 2)\n",
      "(3, 4)\n",
      "(5, 6)\n",
      "(7, 8)\n",
      "(9, 10)\n",
      "(11, 12)\n",
      "(13, 14)\n",
      "(15, 16)\n"
     ]
    }
   ],
   "source": [
    "# let's take a closer look\n",
    "for i in zip(a,b):\n",
    "    print(i)"
   ]
  },
  {
   "cell_type": "code",
   "execution_count": 11,
   "metadata": {},
   "outputs": [
    {
     "name": "stdout",
     "output_type": "stream",
     "text": [
      "e:  [1, 2, 3, 4, 5, 6, 7, 8, 9, 10, 11, 12, 13, 14, 15, 16]\n"
     ]
    }
   ],
   "source": [
    "e = []\n",
    "for i in zip(a,b):\n",
    "    for j in i:\n",
    "        e.append(j)\n",
    "print('e: ',e)"
   ]
  },
  {
   "cell_type": "markdown",
   "metadata": {},
   "source": [
    "### e.) Using a while loop, create a list “f” that contains all of the elements of a and b in order"
   ]
  },
  {
   "cell_type": "code",
   "execution_count": 12,
   "metadata": {},
   "outputs": [
    {
     "data": {
      "text/plain": [
       "[1, 2, 3, 4, 5, 6, 7, 8, 9, 10, 11, 12, 13, 14, 15, 16]"
      ]
     },
     "execution_count": 12,
     "metadata": {},
     "output_type": "execute_result"
    }
   ],
   "source": [
    "i = 0\n",
    "f = []\n",
    "while i < len(a):\n",
    "    \n",
    "    f.append(a[i])\n",
    "    f.append(b[i])\n",
    "        \n",
    "    i += 1\n",
    "f"
   ]
  },
  {
   "cell_type": "markdown",
   "metadata": {},
   "source": [
    "# Part 2: Create a dict filled with 5 arbitrary username (containing any numbers/lowercase letters you wish)/passwords as key/value pairs."
   ]
  },
  {
   "cell_type": "code",
   "execution_count": 14,
   "metadata": {},
   "outputs": [
    {
     "name": "stdout",
     "output_type": "stream",
     "text": [
      "{'joleen': 'covid19', 'shmuel': 'COVID', 'rita': 'c0r0navirus', 'jaime': 'quarantine', 'martha': 'sars-cov-2'}\n"
     ]
    }
   ],
   "source": [
    "passwords = {}\n",
    "passwords['joleen'] = 'covid19'\n",
    "passwords['shmuel'] = 'COVID'\n",
    "passwords['rita'] = 'c0r0navirus'\n",
    "passwords['jaime'] = 'quarantine'\n",
    "passwords['martha'] = 'sars-cov-2'\n",
    "\n",
    "print(passwords)"
   ]
  },
  {
   "cell_type": "markdown",
   "metadata": {},
   "source": [
    "### a.) Write a well-documented function called `passwordEval` that takes in a username and password as input, prints “Username and password accepted!” if the username/password combo are inthe dict, and prints “Username/password not found!” if they are not.\n",
    "* HINT 1: When we say well-documented, we refer to both creating a docstring for the\n",
    "function AND commenting on your code. Comments in code can be created by typing “#”\n",
    "in front of whatever you don’t want evaluated – just keep in mind that everything\n",
    "following the “#” on the same line will also be commented out"
   ]
  },
  {
   "cell_type": "code",
   "execution_count": 15,
   "metadata": {},
   "outputs": [],
   "source": [
    "def passwordEval(username,password):\n",
    "    \"\"\"Checks if username/password are in the dict\"\"\"\n",
    "    \n",
    "    \n",
    "    # assumes the dict passwords is accessible outside of function\n",
    "    if passwords[username] == password:\n",
    "        print('Username and password accepted!')\n",
    "        \n",
    "    else:\n",
    "        print('Username/password not found!')\n",
    "    \n",
    "    "
   ]
  },
  {
   "cell_type": "code",
   "execution_count": 16,
   "metadata": {},
   "outputs": [
    {
     "name": "stdout",
     "output_type": "stream",
     "text": [
      "Username and password accepted!\n",
      "Username/password not found!\n",
      "Username and password accepted!\n"
     ]
    }
   ],
   "source": [
    "passwordEval('joleen','covid19')\n",
    "passwordEval('joleen','c0r0navirus')\n",
    "passwordEval('jaime','quarantine')"
   ]
  },
  {
   "cell_type": "markdown",
   "metadata": {},
   "source": [
    "### b) We specified that we only want users to have passwords with lowercase letters. How can we always make sure that users are entering only lowercase? \n",
    "\n",
    "One method is to assert. We didn’t learn this in class, but it’s pretty straightforward. The format is assert (CONDITION), ‘STRING TO PRINT IF FALSE' Using the str.islower() method, add an assertion that usernames must be lowercase into your function. Now test your function to see what happens if you accidentally type a username containing a capital letter!"
   ]
  },
  {
   "cell_type": "code",
   "execution_count": 17,
   "metadata": {},
   "outputs": [],
   "source": [
    "def passwordEval(username,password):\n",
    "    \"\"\"Checks if username/password are in the dict\"\"\"\n",
    "    \n",
    "    assert password.islower(),'password must be lower case'\n",
    "    \n",
    "    # assumes the dict passwords is accessible outside of function\n",
    "    if passwords[username] == password:\n",
    "        print('Username and password accepted!')\n",
    "        \n",
    "    else:\n",
    "        print('Username/password not found!')\n",
    "    \n",
    "\n"
   ]
  },
  {
   "cell_type": "code",
   "execution_count": 18,
   "metadata": {},
   "outputs": [
    {
     "ename": "AssertionError",
     "evalue": "password must be lower case",
     "output_type": "error",
     "traceback": [
      "\u001b[0;31m---------------------------------------------------------------------------\u001b[0m",
      "\u001b[0;31mAssertionError\u001b[0m                            Traceback (most recent call last)",
      "\u001b[0;32m<ipython-input-18-915521a1117d>\u001b[0m in \u001b[0;36m<module>\u001b[0;34m\u001b[0m\n\u001b[0;32m----> 1\u001b[0;31m \u001b[0mpasswordEval\u001b[0m\u001b[0;34m(\u001b[0m\u001b[0;34m'joleen'\u001b[0m\u001b[0;34m,\u001b[0m\u001b[0;34m'Covid19'\u001b[0m\u001b[0;34m)\u001b[0m\u001b[0;34m\u001b[0m\u001b[0;34m\u001b[0m\u001b[0m\n\u001b[0m",
      "\u001b[0;32m<ipython-input-17-fa38a707e56b>\u001b[0m in \u001b[0;36mpasswordEval\u001b[0;34m(username, password)\u001b[0m\n\u001b[1;32m      2\u001b[0m     \u001b[0;34m\"\"\"Checks if username/password are in the dict\"\"\"\u001b[0m\u001b[0;34m\u001b[0m\u001b[0;34m\u001b[0m\u001b[0m\n\u001b[1;32m      3\u001b[0m \u001b[0;34m\u001b[0m\u001b[0m\n\u001b[0;32m----> 4\u001b[0;31m     \u001b[0;32massert\u001b[0m \u001b[0mpassword\u001b[0m\u001b[0;34m.\u001b[0m\u001b[0mislower\u001b[0m\u001b[0;34m(\u001b[0m\u001b[0;34m)\u001b[0m\u001b[0;34m,\u001b[0m\u001b[0;34m'password must be lower case'\u001b[0m\u001b[0;34m\u001b[0m\u001b[0;34m\u001b[0m\u001b[0m\n\u001b[0m\u001b[1;32m      5\u001b[0m \u001b[0;34m\u001b[0m\u001b[0m\n\u001b[1;32m      6\u001b[0m     \u001b[0;31m# assumes the dict passwords is accessible outside of function\u001b[0m\u001b[0;34m\u001b[0m\u001b[0;34m\u001b[0m\u001b[0;34m\u001b[0m\u001b[0m\n",
      "\u001b[0;31mAssertionError\u001b[0m: password must be lower case"
     ]
    }
   ],
   "source": [
    "passwordEval('joleen','Covid19')"
   ]
  },
  {
   "cell_type": "code",
   "execution_count": 19,
   "metadata": {},
   "outputs": [
    {
     "name": "stdout",
     "output_type": "stream",
     "text": [
      "Username and password accepted!\n"
     ]
    }
   ],
   "source": [
    "passwordEval('joleen','covid19')"
   ]
  },
  {
   "cell_type": "markdown",
   "metadata": {},
   "source": [
    "### c.) In b, we used an assertion to make sure users enter correct input. Is there a way to do this that takes the burden off the user? Remove your assertion, and instead use the `str.lower( )` method to correct for this sort of error. Test it out."
   ]
  },
  {
   "cell_type": "code",
   "execution_count": 20,
   "metadata": {},
   "outputs": [],
   "source": [
    "def passwordEval(username,password):\n",
    "    \"\"\"Checks if username/password are in the dict\"\"\"\n",
    "    \n",
    "    # make password lowercase\n",
    "    password = password.lower()\n",
    "    print(password)\n",
    "    \n",
    "    # assumes the dict passwords is accessible outside of function\n",
    "    if passwords[username] == password:\n",
    "        print('Username and password accepted!')\n",
    "        \n",
    "    else:\n",
    "        print('Username/password not found!')\n",
    "    \n",
    "\n"
   ]
  },
  {
   "cell_type": "code",
   "execution_count": 21,
   "metadata": {},
   "outputs": [
    {
     "name": "stdout",
     "output_type": "stream",
     "text": [
      "covid19\n",
      "Username and password accepted!\n"
     ]
    }
   ],
   "source": [
    "passwordEval('joleen','Covid19')"
   ]
  },
  {
   "cell_type": "markdown",
   "metadata": {},
   "source": [
    "## d.) Finally, using your text editor, open the “week1.py” file we created in class, and copy/paste in your well-documented, tested “passwordEval” function. Save, and restart your notebook’s kernel. Can you import it and use it? What does your docstring look like when you type passwordEval?"
   ]
  },
  {
   "cell_type": "markdown",
   "metadata": {},
   "source": [
    "## e.) Create a new dictionary that contains all of the username/password pairs you created in your first dict (is there a Pythonic way to do this instead of retyping it all?), plus 4 new pairs. Write a for loop that runs your passwordEval function on the new dictionary!\n",
    "* HINT1: How do we iterate through a dictionary? Don’t forget about dict.keys()!"
   ]
  },
  {
   "cell_type": "code",
   "execution_count": 15,
   "metadata": {},
   "outputs": [],
   "source": [
    "# note that in this function, we are passing in the full dictionary of passwords\n",
    "def passwordEval(password_dict,username,password):\n",
    "    \"\"\"Checks if username/password are in the dict\"\"\"\n",
    "    \n",
    "    # make password lowercase\n",
    "    password = password.lower()\n",
    "    \n",
    "    # assumes the dict passwords is accessible outside of function\n",
    "    if password_dict[username] == password:\n",
    "        print('Username and password accepted!')\n",
    "        \n",
    "    else:\n",
    "        print('Username/password not found!')\n",
    "    \n",
    "\n"
   ]
  },
  {
   "cell_type": "code",
   "execution_count": 1,
   "metadata": {},
   "outputs": [],
   "source": [
    "import week1 as wk\n",
    "\n",
    "passwords = {}\n",
    "passwords['joleen'] = 'covid19'\n",
    "passwords['shmuel'] = 'COVID'\n",
    "passwords['rita'] = 'c0r0navirus'\n",
    "passwords['jaime'] = 'quarantine'\n",
    "passwords['martha'] = 'sars-cov-2'"
   ]
  },
  {
   "cell_type": "code",
   "execution_count": 2,
   "metadata": {},
   "outputs": [
    {
     "name": "stdout",
     "output_type": "stream",
     "text": [
      "Username and password accepted!\n"
     ]
    }
   ],
   "source": [
    "wk.passwordEval(passwords,'joleen','covid19')"
   ]
  },
  {
   "cell_type": "code",
   "execution_count": 3,
   "metadata": {},
   "outputs": [
    {
     "data": {
      "text/plain": [
       "{'joleen': 'covid19',\n",
       " 'shmuel': 'COVID',\n",
       " 'rita': 'c0r0navirus',\n",
       " 'jaime': 'quarantine',\n",
       " 'martha': 'sars-cov-2',\n",
       " 'Moses': 'exodus2020',\n",
       " 'Jesus': 'anastasis20',\n",
       " 'moses': 'exodus2020',\n",
       " 'jesus': 'anastasis20'}"
      ]
     },
     "execution_count": 3,
     "metadata": {},
     "output_type": "execute_result"
    }
   ],
   "source": [
    "password_dict2 = passwords\n",
    "\n",
    "password_dict2['Moses'] = 'exodus2020'\n",
    "password_dict2['Jesus'] = 'anastasis20'\n",
    "password_dict2['moses'] = 'exodus2020'\n",
    "password_dict2['jesus'] = 'anastasis20'\n",
    "\n",
    "password_dict2"
   ]
  },
  {
   "cell_type": "code",
   "execution_count": 4,
   "metadata": {},
   "outputs": [
    {
     "name": "stdout",
     "output_type": "stream",
     "text": [
      "key: joleen\n",
      "value: covid19\n",
      "Username and password accepted!\n",
      "key: shmuel\n",
      "value: COVID\n",
      "Username/password not found!\n",
      "key: rita\n",
      "value: c0r0navirus\n",
      "Username and password accepted!\n",
      "key: jaime\n",
      "value: quarantine\n",
      "Username and password accepted!\n",
      "key: martha\n",
      "value: sars-cov-2\n",
      "Username and password accepted!\n",
      "key: Moses\n",
      "value: exodus2020\n",
      "Username and password accepted!\n",
      "key: Jesus\n",
      "value: anastasis20\n",
      "Username and password accepted!\n",
      "key: moses\n",
      "value: exodus2020\n",
      "Username and password accepted!\n",
      "key: jesus\n",
      "value: anastasis20\n",
      "Username and password accepted!\n"
     ]
    }
   ],
   "source": [
    "for key,item in password_dict2.items():\n",
    "    print('key: '+key+'\\nvalue: '+item)\n",
    "    wk.passwordEval(passwords,key,item)"
   ]
  },
  {
   "cell_type": "code",
   "execution_count": null,
   "metadata": {},
   "outputs": [],
   "source": []
  },
  {
   "cell_type": "code",
   "execution_count": 5,
   "metadata": {},
   "outputs": [
    {
     "data": {
      "text/plain": [
       "{'joleen': 'covid19',\n",
       " 'shmuel': 'COVID',\n",
       " 'rita': 'c0r0navirus',\n",
       " 'jaime': 'quarantine',\n",
       " 'martha': 'sars-cov-2',\n",
       " 'Moses': 'exodus2020',\n",
       " 'Jesus': 'anastasis20',\n",
       " 'moses': 'exodus2020',\n",
       " 'jesus': 'anastasis20'}"
      ]
     },
     "execution_count": 5,
     "metadata": {},
     "output_type": "execute_result"
    }
   ],
   "source": [
    "passwords"
   ]
  },
  {
   "cell_type": "code",
   "execution_count": 9,
   "metadata": {},
   "outputs": [
    {
     "data": {
      "text/plain": [
       "{'joleen': 'covid19',\n",
       " 'shmuel': 'COVID',\n",
       " 'rita': 'c0r0navirus',\n",
       " 'jaime': 'quarantine',\n",
       " 'martha': 'sars-cov-2'}"
      ]
     },
     "execution_count": 9,
     "metadata": {},
     "output_type": "execute_result"
    }
   ],
   "source": [
    "import week1 as wk\n",
    "from copy import copy\n",
    "\n",
    "passwords = {}\n",
    "passwords['joleen'] = 'covid19'\n",
    "passwords['shmuel'] = 'COVID'\n",
    "passwords['rita'] = 'c0r0navirus'\n",
    "passwords['jaime'] = 'quarantine'\n",
    "passwords['martha'] = 'sars-cov-2'\n",
    "\n",
    "password_dict2 = copy(passwords)\n",
    "\n",
    "password_dict2['Moses'] = 'exodus2020'\n",
    "password_dict2['Jesus'] = 'anastasis20'\n",
    "password_dict2['moses'] = 'exodus2020'\n",
    "password_dict2['jesus'] = 'anastasis20'\n",
    "\n",
    "passwords"
   ]
  },
  {
   "cell_type": "code",
   "execution_count": 10,
   "metadata": {},
   "outputs": [
    {
     "data": {
      "text/plain": [
       "{'joleen': 'covid19',\n",
       " 'shmuel': 'COVID',\n",
       " 'rita': 'c0r0navirus',\n",
       " 'jaime': 'quarantine',\n",
       " 'martha': 'sars-cov-2',\n",
       " 'Moses': 'exodus2020',\n",
       " 'Jesus': 'anastasis20',\n",
       " 'moses': 'exodus2020',\n",
       " 'jesus': 'anastasis20'}"
      ]
     },
     "execution_count": 10,
     "metadata": {},
     "output_type": "execute_result"
    }
   ],
   "source": [
    "password_dict2"
   ]
  },
  {
   "cell_type": "code",
   "execution_count": 11,
   "metadata": {},
   "outputs": [
    {
     "name": "stdout",
     "output_type": "stream",
     "text": [
      "key: joleen\n",
      "value: covid19\n",
      "Username and password accepted!\n",
      "key: shmuel\n",
      "value: COVID\n",
      "Username/password not found!\n",
      "key: rita\n",
      "value: c0r0navirus\n",
      "Username and password accepted!\n",
      "key: jaime\n",
      "value: quarantine\n",
      "Username and password accepted!\n",
      "key: martha\n",
      "value: sars-cov-2\n",
      "Username and password accepted!\n",
      "key: Moses\n",
      "value: exodus2020\n"
     ]
    },
    {
     "ename": "KeyError",
     "evalue": "'Moses'",
     "output_type": "error",
     "traceback": [
      "\u001b[0;31m---------------------------------------------------------------------------\u001b[0m",
      "\u001b[0;31mKeyError\u001b[0m                                  Traceback (most recent call last)",
      "\u001b[0;32m<ipython-input-11-d8c9991a04c0>\u001b[0m in \u001b[0;36m<module>\u001b[0;34m\u001b[0m\n\u001b[1;32m      1\u001b[0m \u001b[0;32mfor\u001b[0m \u001b[0mkey\u001b[0m\u001b[0;34m,\u001b[0m\u001b[0mitem\u001b[0m \u001b[0;32min\u001b[0m \u001b[0mpassword_dict2\u001b[0m\u001b[0;34m.\u001b[0m\u001b[0mitems\u001b[0m\u001b[0;34m(\u001b[0m\u001b[0;34m)\u001b[0m\u001b[0;34m:\u001b[0m\u001b[0;34m\u001b[0m\u001b[0;34m\u001b[0m\u001b[0m\n\u001b[1;32m      2\u001b[0m     \u001b[0mprint\u001b[0m\u001b[0;34m(\u001b[0m\u001b[0;34m'key: '\u001b[0m\u001b[0;34m+\u001b[0m\u001b[0mkey\u001b[0m\u001b[0;34m+\u001b[0m\u001b[0;34m'\\nvalue: '\u001b[0m\u001b[0;34m+\u001b[0m\u001b[0mitem\u001b[0m\u001b[0;34m)\u001b[0m\u001b[0;34m\u001b[0m\u001b[0;34m\u001b[0m\u001b[0m\n\u001b[0;32m----> 3\u001b[0;31m     \u001b[0mwk\u001b[0m\u001b[0;34m.\u001b[0m\u001b[0mpasswordEval\u001b[0m\u001b[0;34m(\u001b[0m\u001b[0mpasswords\u001b[0m\u001b[0;34m,\u001b[0m\u001b[0mkey\u001b[0m\u001b[0;34m,\u001b[0m\u001b[0mitem\u001b[0m\u001b[0;34m)\u001b[0m\u001b[0;34m\u001b[0m\u001b[0;34m\u001b[0m\u001b[0m\n\u001b[0m",
      "\u001b[0;32m~/Documents/Code/PythonDataCourse/Homeworks/HW1-jacob/week1.py\u001b[0m in \u001b[0;36mpasswordEval\u001b[0;34m(password_dict, username, password)\u001b[0m\n\u001b[1;32m      8\u001b[0m \u001b[0;34m\u001b[0m\u001b[0m\n\u001b[1;32m      9\u001b[0m     \u001b[0;31m# assumes the dict passwords is accessible outside of function\u001b[0m\u001b[0;34m\u001b[0m\u001b[0;34m\u001b[0m\u001b[0;34m\u001b[0m\u001b[0m\n\u001b[0;32m---> 10\u001b[0;31m     \u001b[0;32mif\u001b[0m \u001b[0mpassword_dict\u001b[0m\u001b[0;34m[\u001b[0m\u001b[0musername\u001b[0m\u001b[0;34m]\u001b[0m \u001b[0;34m==\u001b[0m \u001b[0mpassword\u001b[0m\u001b[0;34m:\u001b[0m\u001b[0;34m\u001b[0m\u001b[0;34m\u001b[0m\u001b[0m\n\u001b[0m\u001b[1;32m     11\u001b[0m         \u001b[0mprint\u001b[0m\u001b[0;34m(\u001b[0m\u001b[0;34m'Username and password accepted!'\u001b[0m\u001b[0;34m)\u001b[0m\u001b[0;34m\u001b[0m\u001b[0;34m\u001b[0m\u001b[0m\n\u001b[1;32m     12\u001b[0m \u001b[0;34m\u001b[0m\u001b[0m\n",
      "\u001b[0;31mKeyError\u001b[0m: 'Moses'"
     ]
    }
   ],
   "source": [
    "for key,item in password_dict2.items():\n",
    "    print('key: '+key+'\\nvalue: '+item)\n",
    "    wk.passwordEval(passwords,key,item)"
   ]
  },
  {
   "cell_type": "code",
   "execution_count": 12,
   "metadata": {},
   "outputs": [],
   "source": [
    "def passwordEval(password_dict,username,password):\n",
    "    \"\"\"Checks if username/password are in the dict\"\"\"\n",
    "    \n",
    "    # make password lowercase\n",
    "    password = password.lower()\n",
    "    \n",
    "    # assumes the dict passwords is accessible outside of function\n",
    "    if username in password_dict.keys(): # check if key is in dict first\n",
    "        if password_dict[username] == password:\n",
    "            print('Username and password accepted!')\n",
    "        \n",
    "    else:\n",
    "        print('Username/password not found!')\n",
    "    \n",
    "\n"
   ]
  },
  {
   "cell_type": "code",
   "execution_count": 14,
   "metadata": {},
   "outputs": [
    {
     "name": "stdout",
     "output_type": "stream",
     "text": [
      "key: joleen\n",
      "value: covid19\n",
      "Username and password accepted!\n",
      "key: shmuel\n",
      "value: COVID\n",
      "key: rita\n",
      "value: c0r0navirus\n",
      "Username and password accepted!\n",
      "key: jaime\n",
      "value: quarantine\n",
      "Username and password accepted!\n",
      "key: martha\n",
      "value: sars-cov-2\n",
      "Username and password accepted!\n",
      "key: Moses\n",
      "value: exodus2020\n",
      "Username/password not found!\n",
      "key: Jesus\n",
      "value: anastasis20\n",
      "Username/password not found!\n",
      "key: moses\n",
      "value: exodus2020\n",
      "Username/password not found!\n",
      "key: jesus\n",
      "value: anastasis20\n",
      "Username/password not found!\n"
     ]
    }
   ],
   "source": [
    "for key,item in password_dict2.items():\n",
    "    print('key: '+key+'\\nvalue: '+item)\n",
    "    passwordEval(passwords,key,item)"
   ]
  },
  {
   "cell_type": "code",
   "execution_count": null,
   "metadata": {},
   "outputs": [],
   "source": []
  }
 ],
 "metadata": {
  "kernelspec": {
   "display_name": "Python 3",
   "language": "python",
   "name": "python3"
  },
  "language_info": {
   "codemirror_mode": {
    "name": "ipython",
    "version": 3
   },
   "file_extension": ".py",
   "mimetype": "text/x-python",
   "name": "python",
   "nbconvert_exporter": "python",
   "pygments_lexer": "ipython3",
   "version": "3.7.4"
  }
 },
 "nbformat": 4,
 "nbformat_minor": 2
}
