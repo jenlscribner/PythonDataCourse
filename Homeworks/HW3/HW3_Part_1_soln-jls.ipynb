{
 "cells": [
  {
   "cell_type": "markdown",
   "metadata": {},
   "source": [
    "# Class 3 HW Part 1: numpy and scipy\n",
    "Begin by importing the libraries that you'll need for today: numpy, matplotlib, pandas, and seaborn."
   ]
  },
  {
   "cell_type": "code",
   "execution_count": 45,
   "metadata": {},
   "outputs": [],
   "source": [
    "# import libraries\n",
    "import numpy as np\n",
    "import matplotlib.pyplot as plt\n",
    "import pandas as pd\n",
    "import seaborn as sns\n",
    "import scipy.signal as signal"
   ]
  },
  {
   "cell_type": "markdown",
   "metadata": {},
   "source": [
    "## <font color = blue>Problem 1: a few basic problems on creating numpy arrays </font>\n",
    "#### 1a.) Create a 10x5 numpy array \"x\" filled with ones, and print the data type of the first value of the first element."
   ]
  },
  {
   "cell_type": "code",
   "execution_count": 3,
   "metadata": {},
   "outputs": [
    {
     "name": "stdout",
     "output_type": "stream",
     "text": [
      "x[1,1] data type:  float64\n",
      "x:  [[1. 1. 1. 1. 1.]\n",
      " [1. 1. 1. 1. 1.]\n",
      " [1. 1. 1. 1. 1.]\n",
      " [1. 1. 1. 1. 1.]\n",
      " [1. 1. 1. 1. 1.]\n",
      " [1. 1. 1. 1. 1.]\n",
      " [1. 1. 1. 1. 1.]\n",
      " [1. 1. 1. 1. 1.]\n",
      " [1. 1. 1. 1. 1.]\n",
      " [1. 1. 1. 1. 1.]]\n"
     ]
    }
   ],
   "source": [
    "#hint: is there a numpy function that makes this easier?\n",
    "x = np.ones([10,5])\n",
    "print('x[1,1] data type: ', x[1,1].dtype)\n",
    "print('x: ',x)"
   ]
  },
  {
   "cell_type": "markdown",
   "metadata": {},
   "source": [
    "#### 1b.) Find two separate ways to create the same matrix \"x\", containing ints instead of floats"
   ]
  },
  {
   "cell_type": "code",
   "execution_count": 14,
   "metadata": {},
   "outputs": [
    {
     "name": "stdout",
     "output_type": "stream",
     "text": [
      "x:  [[1 1 1 1 1]\n",
      " [1 1 1 1 1]\n",
      " [1 1 1 1 1]\n",
      " [1 1 1 1 1]\n",
      " [1 1 1 1 1]\n",
      " [1 1 1 1 1]\n",
      " [1 1 1 1 1]\n",
      " [1 1 1 1 1]\n",
      " [1 1 1 1 1]\n",
      " [1 1 1 1 1]]\n",
      "x[1,1] datatype:  int32\n",
      "x2:  [[1 1 1 1 1]\n",
      " [1 1 1 1 1]\n",
      " [1 1 1 1 1]\n",
      " [1 1 1 1 1]\n",
      " [1 1 1 1 1]\n",
      " [1 1 1 1 1]\n",
      " [1 1 1 1 1]\n",
      " [1 1 1 1 1]\n",
      " [1 1 1 1 1]\n",
      " [1 1 1 1 1]] \n",
      "xs[1,1] datatype:  int32\n"
     ]
    }
   ],
   "source": [
    "#hint: there are more than two ways! Just pick the two that are easiest for you.\n",
    "# using .ones() with dtype \n",
    "x = np.ones([10,5],dtype=int)\n",
    "print('x: ',x)\n",
    "print('x[1,1] datatype: ',x[1,1].dtype)\n",
    "\n",
    "# sending a list of ints via .array() and then reshaping\n",
    "x2 = np.array([1,]*50).reshape([10,5])\n",
    "print('x2: ',x2, '\\nxs[1,1] datatype: ',x2[1,1].dtype)"
   ]
  },
  {
   "cell_type": "markdown",
   "metadata": {},
   "source": [
    "#### 1c.) Reassign x to a 1D array of 50 evenly spaced elements between 2 and 20, inclusive."
   ]
  },
  {
   "cell_type": "code",
   "execution_count": 27,
   "metadata": {},
   "outputs": [
    {
     "name": "stdout",
     "output_type": "stream",
     "text": [
      "x linspace:  [ 2.          2.36734694  2.73469388  3.10204082  3.46938776  3.83673469\n",
      "  4.20408163  4.57142857  4.93877551  5.30612245  5.67346939  6.04081633\n",
      "  6.40816327  6.7755102   7.14285714  7.51020408  7.87755102  8.24489796\n",
      "  8.6122449   8.97959184  9.34693878  9.71428571 10.08163265 10.44897959\n",
      " 10.81632653 11.18367347 11.55102041 11.91836735 12.28571429 12.65306122\n",
      " 13.02040816 13.3877551  13.75510204 14.12244898 14.48979592 14.85714286\n",
      " 15.2244898  15.59183673 15.95918367 16.32653061 16.69387755 17.06122449\n",
      " 17.42857143 17.79591837 18.16326531 18.53061224 18.89795918 19.26530612\n",
      " 19.63265306 20.        ]\n"
     ]
    }
   ],
   "source": [
    "# not sure how endpoint works\n",
    "x = np.linspace(2,20,50,endpoint=True)\n",
    "print('x linspace: ',x)"
   ]
  },
  {
   "cell_type": "markdown",
   "metadata": {},
   "source": [
    "#### 1d.) Reassign x to a 1D array of 50 evenly spaced elements on a log scale between 2 and 20, exclusive."
   ]
  },
  {
   "cell_type": "code",
   "execution_count": 31,
   "metadata": {},
   "outputs": [
    {
     "name": "stdout",
     "output_type": "stream",
     "text": [
      "x logspace:  [1.00000000e+02 2.29086765e+02 5.24807460e+02 1.20226443e+03\n",
      " 2.75422870e+03 6.30957344e+03 1.44543977e+04 3.31131121e+04\n",
      " 7.58577575e+04 1.73780083e+05 3.98107171e+05 9.12010839e+05\n",
      " 2.08929613e+06 4.78630092e+06 1.09647820e+07 2.51188643e+07\n",
      " 5.75439937e+07 1.31825674e+08 3.01995172e+08 6.91830971e+08\n",
      " 1.58489319e+09 3.63078055e+09 8.31763771e+09 1.90546072e+10\n",
      " 4.36515832e+10 1.00000000e+11 2.29086765e+11 5.24807460e+11\n",
      " 1.20226443e+12 2.75422870e+12 6.30957344e+12 1.44543977e+13\n",
      " 3.31131121e+13 7.58577575e+13 1.73780083e+14 3.98107171e+14\n",
      " 9.12010839e+14 2.08929613e+15 4.78630092e+15 1.09647820e+16\n",
      " 2.51188643e+16 5.75439937e+16 1.31825674e+17 3.01995172e+17\n",
      " 6.91830971e+17 1.58489319e+18 3.63078055e+18 8.31763771e+18\n",
      " 1.90546072e+19 4.36515832e+19]\n"
     ]
    }
   ],
   "source": [
    "x = np.logspace(2,20,50,endpoint=False,base=10.0)\n",
    "print('x logspace: ',x)"
   ]
  },
  {
   "cell_type": "markdown",
   "metadata": {},
   "source": [
    "## <font color = blue> Problem 2: using numpy and matplotlib to create and view some fake data: a noisy sin wave </font>\n",
    "#### 2a.) Using np.linspace, create a 1D array \"t\" containing 1000 evenly spaced elements between 0 and 1, exclusive. Print the first 50 elements to check that your 1D array has values incrementing by 0.001."
   ]
  },
  {
   "cell_type": "code",
   "execution_count": 33,
   "metadata": {},
   "outputs": [
    {
     "name": "stdout",
     "output_type": "stream",
     "text": [
      "t[0:50]:  [0.    0.001 0.002 0.003 0.004 0.005 0.006 0.007 0.008 0.009 0.01  0.011\n",
      " 0.012 0.013 0.014 0.015 0.016 0.017 0.018 0.019 0.02  0.021 0.022 0.023\n",
      " 0.024 0.025 0.026 0.027 0.028 0.029 0.03  0.031 0.032 0.033 0.034 0.035\n",
      " 0.036 0.037 0.038 0.039 0.04  0.041 0.042 0.043 0.044 0.045 0.046 0.047\n",
      " 0.048 0.049]\n"
     ]
    }
   ],
   "source": [
    "# for exclusive, set endpoint=False\n",
    "t = np.linspace(0,1,1000,endpoint=False)\n",
    "print('t[0:50]: ',t[0:50])"
   ]
  },
  {
   "cell_type": "markdown",
   "metadata": {},
   "source": [
    "#### 2b.) Using numpy's sin function, create a sin wave equal to $sin = sin(2\\pi * (4*t))$, and a 1D array \"noise\", the same shape as your sin array,  filled with random float values between -1 and 1. Set a third array \"noisy_sin\" = <code>sin + noise</code>.  "
   ]
  },
  {
   "cell_type": "code",
   "execution_count": 49,
   "metadata": {},
   "outputs": [
    {
     "name": "stdout",
     "output_type": "stream",
     "text": [
      "noise:  [ 0.4499423  -0.73605848  0.85084908 -0.99456348  0.6715412  -0.79338193\n",
      "  0.57846574  0.47603131 -0.81322592] \n",
      "min / max:  -1.0012425720360312 /  0.9927493283540969\n",
      "noisy_sin:  [ 0.47507239 -0.68581416  0.92617589 -0.89420177  0.79687444 -0.64315634\n",
      "  0.7534888   0.67574129 -0.58895516]\n"
     ]
    }
   ],
   "source": [
    "#hint: use np.pi for your sin wave\n",
    "#hint: randint, which lets you input a range, will only output integers\n",
    "#you can normalize to [-1,1] via 2*(x-x.min()/x.max()-x.min())-1\n",
    "sin = np.sin(2*np.pi*(4*t))\n",
    "noise = np.random.random(sin.shape)\n",
    "noise = 2*(noise-noise.min()/noise.max()-noise.min())-1\n",
    "print('noise: ',noise[1:10],'\\nmin / max: ',noise.min(),'/ ',noise.max())\n",
    "noisy_sin = sin + noise\n",
    "print('noisy_sin: ',noisy_sin[1:10])"
   ]
  },
  {
   "cell_type": "markdown",
   "metadata": {},
   "source": [
    "2d.) In two plots (use subplots), plot <code>(t, sin)</code> in red and <code>(t, noisysin)</code> in blue. Title plots appropriately, including the frequency of the wave that you've generated!"
   ]
  },
  {
   "cell_type": "code",
   "execution_count": 58,
   "metadata": {},
   "outputs": [
    {
     "data": {
      "image/png": "[encoded data removed]",
      "text/plain": [
       "<Figure size 864x288 with 2 Axes>"
      ]
     },
     "metadata": {
      "needs_background": "light"
     },
     "output_type": "display_data"
    }
   ],
   "source": [
    "fig,ax = plt.subplots(1,2,figsize=(12,4),sharey=True)\n",
    "\n",
    "ax[0].plot(t,sin,color='r')\n",
    "ax[1].plot(t,noisy_sin,color='b',alpha=.5)\n",
    "\n",
    "for a in ax:\n",
    "    a.set_xlabel('t')\n",
    "    a.set_ylabel('sin(t)')\n",
    "\n",
    "ax[0].set_title('$sin(2\\pi*4t)$') # refresh on LaTex syntax!\n",
    "ax[1].set_title('$sin(2\\pi*4t)$ + Noise')\n",
    "plt.show()"
   ]
  },
  {
   "cell_type": "markdown",
   "metadata": {},
   "source": [
    "## <font color = blue> Problem 3: Using SciPy to construct/apply a filter </font>\n",
    "### Before begining, the problem, go back up to your first cell and import signal from scipy.\n",
    "#### 3a.) Using SciPy.signal's butterworth filter function (scipy.signal.butter: documentation [here](https://docs.scipy.org/doc/scipy/reference/generated/scipy.signal.butter.html)), create a <font color = red>2nd order</font>,<font color = red> low-pass</font>,<font color = red> analog</font> filter with a cutoff frequency of <font color = red>10 rad/s</font>."
   ]
  },
  {
   "cell_type": "code",
   "execution_count": 60,
   "metadata": {},
   "outputs": [],
   "source": [
    "#hint: signal.butter returns TWO outputs - you'll want to set it equal to two\n",
    "#comma-separated variables. This is demonstrated clearly in the documentation!\n",
    "# signal.butter(N, Wn, btype='low',analog=False, output='ba', fs=None)\n",
    "b, a = signal.butter(2, 10, btype='lowpass', analog=True, output='ba')"
   ]
  },
  {
   "cell_type": "markdown",
   "metadata": {},
   "source": [
    "#### 3b.) Using SciPy.signal's freq function (documentation [here](https://docs.scipy.org/doc/scipy-0.16.0/reference/generated/scipy.signal.freqs.html)), to compute the frequency response of the filter that you generated in 3a."
   ]
  },
  {
   "cell_type": "code",
   "execution_count": 61,
   "metadata": {},
   "outputs": [],
   "source": [
    "#Similarly, the documentation givesa very thorough example!\n",
    "w, h = signal.freqs(b, a)\n"
   ]
  },
  {
   "cell_type": "markdown",
   "metadata": {},
   "source": [
    "#### 3c.) Passing the input <code>(w, 20 * np.log10(abs(h)))</code> into plt.plot (and setting the x-axis to logscale) or plt.semilogx, plot your filter in log-scale. Title and label axes appropriately. Use matplotlib's \"grid\" method to include a grid background from <font color = red> both </font> the x and y axes."
   ]
  },
  {
   "cell_type": "code",
   "execution_count": 64,
   "metadata": {},
   "outputs": [
    {
     "data": {
      "image/png": "[encoded data removed]",
      "text/plain": [
       "<Figure size 432x288 with 1 Axes>"
      ]
     },
     "metadata": {
      "needs_background": "light"
     },
     "output_type": "display_data"
    }
   ],
   "source": [
    "plt.semilogx(w, 20 * np.log10(abs(h)), color='xkcd:mauve')\n",
    "plt.title('Butterworth filter frequency response')\n",
    "plt.xlabel('Frequency [radians/second]')\n",
    "plt.ylabel('Amplitude [dB]')\n",
    "plt.margins(0,0.1)\n",
    "plt.grid(which='both', axis='both')\n",
    "plt.axvline(10, color='xkcd:ocean')\n",
    "plt.show()"
   ]
  },
  {
   "cell_type": "markdown",
   "metadata": {},
   "source": [
    "#### 3d.) Once again, use signal.butter() to create a filter. This time, create a <font color=red>second order, low-pass </font> <font color=orange> digital filter</font><font color=red> with a frequency cutoff of 10Hz</font>  filter. In this case, the frequency cutoff must be __normalized__ . We can do this by dividing our desired cutoff frequency in __Hz__ by half the sampling frequency! As each timestep in \"t\" = 0.001, our sampling frequency is 1000.\n",
    "<br> \n",
    "#### To make this code readable to future users, assign the sampling frequency to a variable \"fs\" and comment your code well."
   ]
  },
  {
   "cell_type": "code",
   "execution_count": null,
   "metadata": {},
   "outputs": [],
   "source": [
    "fs = 10 # cutoff freq [Hz]\n",
    "\n",
    "b, a = signal.butter(2, fs, btype='lowpass', analog=False, output='ba')"
   ]
  },
  {
   "cell_type": "markdown",
   "metadata": {},
   "source": [
    "#### 3e.) Finally, by passing the two outputs of your digital filter above and the signal you want filtered into signal.filtfilt(), create a variable called \"filtered_signal\" that is equal to the noisy sin wave with your digital filter applied to it! \n",
    "<br><br>\n",
    "#### Using 4x1 subplots, plot your (1) initial sin wave in blue, (2) your noisy sin wave in orange, (3) your filtered noisy sin wave in green, and (4) all three overlaid."
   ]
  },
  {
   "cell_type": "code",
   "execution_count": null,
   "metadata": {},
   "outputs": [],
   "source": []
  },
  {
   "cell_type": "code",
   "execution_count": null,
   "metadata": {},
   "outputs": [],
   "source": []
  },
  {
   "cell_type": "code",
   "execution_count": null,
   "metadata": {},
   "outputs": [],
   "source": []
  },
  {
   "cell_type": "code",
   "execution_count": null,
   "metadata": {},
   "outputs": [],
   "source": []
  }
 ],
 "metadata": {
  "kernelspec": {
   "display_name": "Python 3",
   "language": "python",
   "name": "python3"
  },
  "language_info": {
   "codemirror_mode": {
    "name": "ipython",
    "version": 3
   },
   "file_extension": ".py",
   "mimetype": "text/x-python",
   "name": "python",
   "nbconvert_exporter": "python",
   "pygments_lexer": "ipython3",
   "version": "3.7.3"
  }
 },
 "nbformat": 4,
 "nbformat_minor": 4
}
