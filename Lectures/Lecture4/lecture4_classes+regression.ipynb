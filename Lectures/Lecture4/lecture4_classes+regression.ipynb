{
 "cells": [
  {
   "cell_type": "markdown",
   "metadata": {
    "slideshow": {
     "slide_type": "slide"
    }
   },
   "source": [
    "# Lecture 4: Introduction to Python Classes via Linear Regression\n",
    "\n",
    "April is the cruelest month, 2020\n",
    "\n",
    "J. Portes"
   ]
  },
  {
   "cell_type": "markdown",
   "metadata": {
    "slideshow": {
     "slide_type": "slide"
    }
   },
   "source": [
    "Aside: The following resource is a full textbook online with accompanying notebooks: https://jakevdp.github.io/PythonDataScienceHandbook/05.06-linear-regression.html"
   ]
  },
  {
   "cell_type": "markdown",
   "metadata": {
    "slideshow": {
     "slide_type": "slide"
    }
   },
   "source": [
    "# Class-free Linear Regression (aka with functions only)"
   ]
  },
  {
   "cell_type": "markdown",
   "metadata": {
    "slideshow": {
     "slide_type": "fragment"
    }
   },
   "source": [
    "Linear Regression is a method used to define a relationship between a dependent variable $y$ and independent variable $x$. Which is simply written as:\n",
    "$$ y = mx + b$$\n",
    "\n",
    "where $m$ is the scale factor or slope, and $b$ is the bias or intercept"
   ]
  },
  {
   "cell_type": "markdown",
   "metadata": {
    "slideshow": {
     "slide_type": "fragment"
    }
   },
   "source": [
    "One approach is using **Ordinary Least Squares** (https://en.wikipedia.org/wiki/Ordinary_least_squares)"
   ]
  },
  {
   "cell_type": "code",
   "execution_count": 1,
   "metadata": {
    "slideshow": {
     "slide_type": "fragment"
    }
   },
   "outputs": [],
   "source": [
    "import numpy as np\n",
    "import matplotlib.pyplot as plt\n",
    "import pandas as pd\n",
    "import seaborn as sns; sns.set() # this sets the plotting aesthetic for the notebook"
   ]
  },
  {
   "cell_type": "code",
   "execution_count": 2,
   "metadata": {
    "slideshow": {
     "slide_type": "slide"
    }
   },
   "outputs": [],
   "source": [
    "x = np.arange(0,10,0.1)\n",
    "m = 2.7\n",
    "b = -5"
   ]
  },
  {
   "cell_type": "markdown",
   "metadata": {
    "slideshow": {
     "slide_type": "fragment"
    }
   },
   "source": [
    "We could implement this simply as:"
   ]
  },
  {
   "cell_type": "code",
   "execution_count": 3,
   "metadata": {
    "slideshow": {
     "slide_type": "fragment"
    }
   },
   "outputs": [],
   "source": [
    "y = m*x +b"
   ]
  },
  {
   "cell_type": "code",
   "execution_count": 4,
   "metadata": {
    "slideshow": {
     "slide_type": "slide"
    }
   },
   "outputs": [
    {
     "data": {
      "image/png": "[encoded data removed]",
      "text/plain": [
       "<Figure size 432x288 with 1 Axes>"
      ]
     },
     "metadata": {
      "needs_background": "light"
     },
     "output_type": "display_data"
    }
   ],
   "source": [
    "# these two functions plot vertical and horizontal lines\n",
    "plt.axvline(x=0,ymin=-5,ymax=5,color='gray')\n",
    "plt.axhline(y=0,xmin=-5,xmax=5,color='gray')\n",
    "\n",
    "plt.plot(x,y)\n",
    "\n",
    "plt.show()"
   ]
  },
  {
   "cell_type": "markdown",
   "metadata": {
    "slideshow": {
     "slide_type": "slide"
    }
   },
   "source": [
    "We could also implement this as a simple function:"
   ]
  },
  {
   "cell_type": "code",
   "execution_count": 5,
   "metadata": {
    "slideshow": {
     "slide_type": "fragment"
    }
   },
   "outputs": [],
   "source": [
    "def linear_model(x,m,b):\n",
    "    \n",
    "    y = m*x + b\n",
    "    \n",
    "    return y"
   ]
  },
  {
   "cell_type": "code",
   "execution_count": 7,
   "metadata": {
    "slideshow": {
     "slide_type": "fragment"
    }
   },
   "outputs": [],
   "source": [
    "# add some noise\n",
    "np.random.seed(0) # this sets the same noise every time you run the cell\n",
    "x_data = x + np.random.randn(len(x))\n",
    "y_data = linear_model(x_data,m,b) + np.random.randn(len(x))*5 # scaling the noise up"
   ]
  },
  {
   "cell_type": "code",
   "execution_count": 9,
   "metadata": {
    "slideshow": {
     "slide_type": "slide"
    }
   },
   "outputs": [
    {
     "data": {
      "image/png": "[encoded data removed]",
      "text/plain": [
       "<Figure size 432x288 with 1 Axes>"
      ]
     },
     "metadata": {
      "needs_background": "light"
     },
     "output_type": "display_data"
    }
   ],
   "source": [
    "plt.axvline(x=0,ymin=-5,ymax=5,color='gray')\n",
    "plt.axhline(y=0,xmin=-5,xmax=5,color='gray')\n",
    "\n",
    "\n",
    "plt.scatter(x_data,y_data,color='C9')\n",
    "plt.plot(x,y,linewidth=3)\n",
    "\n",
    "plt.show()"
   ]
  },
  {
   "cell_type": "markdown",
   "metadata": {
    "slideshow": {
     "slide_type": "slide"
    }
   },
   "source": [
    "Can we estimate the slope and intercept/bias from the noisy data?"
   ]
  },
  {
   "cell_type": "markdown",
   "metadata": {
    "slideshow": {
     "slide_type": "fragment"
    }
   },
   "source": [
    "We want to find a \"model\" with the values for $m$ and $b$ that minimizes the residuals between our model and the data points. We can define the residual $r$ for  each data point $i$ as:\n",
    "\n",
    "$$ r_i = y_{i} - m \\cdot x_i - b$$"
   ]
  },
  {
   "cell_type": "markdown",
   "metadata": {
    "slideshow": {
     "slide_type": "fragment"
    }
   },
   "source": [
    "and we want to minimize:\n",
    "\n",
    "$$ \\sum_{i=1}^{n \\space samples} r_i^2$$"
   ]
  },
  {
   "cell_type": "markdown",
   "metadata": {
    "slideshow": {
     "slide_type": "fragment"
    }
   },
   "source": [
    "(note that $r_i$ is squared to account for positive and negative values)"
   ]
  },
  {
   "cell_type": "markdown",
   "metadata": {
    "slideshow": {
     "slide_type": "slide"
    }
   },
   "source": [
    "We can derive the equations for the optimal $m$ and $b$: let's call these $m_{opt}$ and $b_{opt}$:\n",
    "\n",
    "$$ m_{opt} = \\frac{\\sum_i (x_i-\\bar{x})(y_i-\\bar{y})}{\\sum_i (x_i - \\bar{x})^2}$$"
   ]
  },
  {
   "cell_type": "markdown",
   "metadata": {
    "slideshow": {
     "slide_type": "fragment"
    }
   },
   "source": [
    "$$ b_{opt} = \\bar{y} - m_{opt} \\cdot \\bar{x} $$"
   ]
  },
  {
   "cell_type": "markdown",
   "metadata": {
    "slideshow": {
     "slide_type": "fragment"
    }
   },
   "source": [
    "See https://en.wikipedia.org/wiki/Simple_linear_regression for full derivation"
   ]
  },
  {
   "cell_type": "code",
   "execution_count": 10,
   "metadata": {
    "slideshow": {
     "slide_type": "slide"
    }
   },
   "outputs": [],
   "source": [
    "# setting this again\n",
    "x = np.arange(0,10,0.1)\n",
    "m = 2.7\n",
    "b = -5\n",
    "\n",
    "rng = np.random.RandomState(0) # this is another way to set random state\n",
    "x_data = x + rng.randn(len(x))\n",
    "y_data = linear_model(x_data,m,b) + rng.randn(len(x))*5"
   ]
  },
  {
   "cell_type": "code",
   "execution_count": 11,
   "metadata": {
    "slideshow": {
     "slide_type": "fragment"
    }
   },
   "outputs": [],
   "source": [
    "x_mean = np.mean(x_data)\n",
    "y_data_mean = np.mean(y_data)\n",
    "    \n",
    "n= len(y_data) # number of samples"
   ]
  },
  {
   "cell_type": "markdown",
   "metadata": {
    "slideshow": {
     "slide_type": "slide"
    }
   },
   "source": [
    "Doing this in a `for` loop:"
   ]
  },
  {
   "cell_type": "code",
   "execution_count": 12,
   "metadata": {
    "slideshow": {
     "slide_type": "fragment"
    }
   },
   "outputs": [
    {
     "name": "stdout",
     "output_type": "stream",
     "text": [
      "m_opt = 2.49\n",
      "b_opt = -3.54\n"
     ]
    }
   ],
   "source": [
    "numerator=0\n",
    "denomenator = 0\n",
    "for i in range(n):\n",
    "    \n",
    "    numerator += (x_data[i]-x_mean)*(y_data[i]-y_data_mean)\n",
    "    denomenator += (x_data[i]-x_mean)**2\n",
    "    \n",
    "m_opt = numerator/denomenator\n",
    "\n",
    "b_opt = y_data_mean - m_opt * x_mean\n",
    "\n",
    "print('m_opt = %.2f' % (m_opt))\n",
    "print('b_opt = {:.2f}'.format(b_opt)) # note these are two ways of formatting the output to round to 2 decimal places (or 'floating points')"
   ]
  },
  {
   "cell_type": "markdown",
   "metadata": {
    "slideshow": {
     "slide_type": "slide"
    }
   },
   "source": [
    "We can do the same thing without a `for` loop using arrays:"
   ]
  },
  {
   "cell_type": "code",
   "execution_count": 13,
   "metadata": {
    "slideshow": {
     "slide_type": "fragment"
    }
   },
   "outputs": [
    {
     "name": "stdout",
     "output_type": "stream",
     "text": [
      "m_opt = 2.491\n",
      "b_opt = -3.542\n"
     ]
    }
   ],
   "source": [
    "numerator = np.sum((x_data-x_mean)*(y_data-y_data_mean))\n",
    "denomenator = np.sum((x_data-x_mean)**2)\n",
    "    \n",
    "m_opt = numerator/denomenator\n",
    "\n",
    "b_opt = y_data_mean - m_opt * x_mean\n",
    "\n",
    "print('m_opt = %.3f' % (m_opt))\n",
    "print('b_opt = {:.3f}'.format(b_opt)) # note these are two ways of formatting the output to round to 2 decimal places (or 'floating points')"
   ]
  },
  {
   "cell_type": "markdown",
   "metadata": {
    "slideshow": {
     "slide_type": "fragment"
    }
   },
   "source": [
    "## PROBLEM: Code this as a function `fit()` with inputs `x_data`,`y_data` and outputs `m_opt`, `b_opt`"
   ]
  },
  {
   "cell_type": "code",
   "execution_count": 14,
   "metadata": {
    "slideshow": {
     "slide_type": "skip"
    }
   },
   "outputs": [],
   "source": [
    "def fit(x_data, y_data, m_opt):\n",
    "    x_mean = x_data.mean()\n",
    "    y_data_mean = y_data.mean()\n",
    "    \n",
    "    numerator = np.sum((x_data-x_mean)*(y_data-y_data_mean))\n",
    "    denomenator = np.sum((x_data-x_mean)**2)\n",
    "    \n",
    "    m_opt = numerator/denomenator\n",
    "    \n",
    "    b_opt = y_data_mean - m_opt * x_mean\n",
    "    \n",
    "    return(m_opt, b_opt)"
   ]
  },
  {
   "cell_type": "markdown",
   "metadata": {
    "slideshow": {
     "slide_type": "slide"
    }
   },
   "source": [
    "# ..."
   ]
  },
  {
   "cell_type": "markdown",
   "metadata": {
    "slideshow": {
     "slide_type": "slide"
    }
   },
   "source": [
    "One possible solution:"
   ]
  },
  {
   "cell_type": "code",
   "execution_count": 19,
   "metadata": {
    "slideshow": {
     "slide_type": "fragment"
    }
   },
   "outputs": [],
   "source": [
    "def fit(x_data,y_data):\n",
    "    \n",
    "    x_mean = x_data.mean()\n",
    "    y_data_mean = y_data.mean()\n",
    "    \n",
    "    numerator = np.sum((x_data-x_mean)*(y_data-y_data_mean))\n",
    "    denomenator = np.sum((x_data-x_mean)**2)\n",
    "    \n",
    "    m_opt = numerator/denomenator\n",
    "\n",
    "    b_opt = y_data_mean - m_opt * x_mean\n",
    "    \n",
    "    return m_opt, b_opt"
   ]
  },
  {
   "cell_type": "code",
   "execution_count": 20,
   "metadata": {
    "slideshow": {
     "slide_type": "fragment"
    }
   },
   "outputs": [
    {
     "name": "stdout",
     "output_type": "stream",
     "text": [
      "Best fit: m=2.491, b=-3.542\n"
     ]
    }
   ],
   "source": [
    "# Our fitting function\n",
    "m_opt,b_opt = fit(x_data,y_data)\n",
    "print('Best fit: m={:.3f}, b={:.3f}'.format(m_opt,b_opt)) #.3f mean up to 3 decimials"
   ]
  },
  {
   "cell_type": "markdown",
   "metadata": {
    "slideshow": {
     "slide_type": "fragment"
    }
   },
   "source": [
    "So we have constructed our own **Ordinary Least Squares** estimator!"
   ]
  },
  {
   "cell_type": "code",
   "execution_count": 21,
   "metadata": {
    "slideshow": {
     "slide_type": "slide"
    }
   },
   "outputs": [
    {
     "data": {
      "image/png": "[encoded data removed]",
      "text/plain": [
       "<Figure size 432x288 with 1 Axes>"
      ]
     },
     "metadata": {
      "needs_background": "light"
     },
     "output_type": "display_data"
    }
   ],
   "source": [
    "plt.axvline(x=0,ymin=-5,ymax=5,color='gray')\n",
    "plt.axhline(y=0,xmin=-5,xmax=5,color='gray')\n",
    "\n",
    "y_pred = linear_model(x_data,m_opt,b_opt)\n",
    "\n",
    "plt.scatter(x_data,y_data,color='C9',label='data')\n",
    "plt.plot(x,linear_model(x,m,b),linewidth=3,label='ground truth')\n",
    "plt.plot(x_data,y_pred,'-',linewidth=3,label='prediction')\n",
    "\n",
    "plt.legend()\n",
    "\n",
    "plt.show()"
   ]
  },
  {
   "cell_type": "markdown",
   "metadata": {
    "slideshow": {
     "slide_type": "slide"
    }
   },
   "source": [
    "Finally, we want to have some measure of goodness of fit. Let's use $R^2$ (the coefficient of determination):\n",
    "\n",
    "$$ R^2 = 1 - \\frac{\\sum_i (y^{data}_i - y^{pred})^2}{\\sum_i (y^{data}_i-\\bar{y}^{data})^2}$$"
   ]
  },
  {
   "cell_type": "code",
   "execution_count": 22,
   "metadata": {
    "slideshow": {
     "slide_type": "fragment"
    }
   },
   "outputs": [
    {
     "name": "stdout",
     "output_type": "stream",
     "text": [
      "r2 = 0.68\n"
     ]
    }
   ],
   "source": [
    "ss_res = np.sum((y_data - y_pred)**2) # residual sum of squares\n",
    "ss_tot = np.sum((y_data - y_data_mean)**2) # total sum of squares\n",
    "\n",
    "r2 = 1-ss_res/ss_tot\n",
    "\n",
    "print('r2 = {:.2f}'.format(r2))"
   ]
  },
  {
   "cell_type": "markdown",
   "metadata": {
    "slideshow": {
     "slide_type": "slide"
    }
   },
   "source": [
    "# Data science with Python: 6 ways to do linear regression\n",
    "\n",
    "(borrowing heavily from https://www.freecodecamp.org/news/data-science-with-python-8-ways-to-do-linear-regression-and-measure-their-speed-b5577d75f8b/)"
   ]
  },
  {
   "cell_type": "markdown",
   "metadata": {
    "slideshow": {
     "slide_type": "slide"
    }
   },
   "source": [
    "## Method 1: `scipy.polyfit( )` or `numpy.polyfit( )`\n",
    "\n",
    "For simple linear regression, one can choose degree 1."
   ]
  },
  {
   "cell_type": "code",
   "execution_count": 23,
   "metadata": {
    "slideshow": {
     "slide_type": "fragment"
    }
   },
   "outputs": [
    {
     "data": {
      "text/plain": [
       "array([ 2.49089425, -3.54235546])"
      ]
     },
     "execution_count": 23,
     "metadata": {},
     "output_type": "execute_result"
    }
   ],
   "source": [
    "z = np.polyfit(x_data, y_data, 1)\n",
    "z\n"
   ]
  },
  {
   "cell_type": "markdown",
   "metadata": {
    "slideshow": {
     "slide_type": "fragment"
    }
   },
   "source": [
    "These are the same values we found above with our custom function!"
   ]
  },
  {
   "cell_type": "markdown",
   "metadata": {
    "slideshow": {
     "slide_type": "slide"
    }
   },
   "source": [
    "## Method 2: `scipy.stats.linregress()`"
   ]
  },
  {
   "cell_type": "code",
   "execution_count": 24,
   "metadata": {
    "slideshow": {
     "slide_type": "fragment"
    }
   },
   "outputs": [],
   "source": [
    "from scipy import stats"
   ]
  },
  {
   "cell_type": "markdown",
   "metadata": {
    "slideshow": {
     "slide_type": "fragment"
    }
   },
   "source": [
    "This is a highly specialized linear regression function available within the `stats` module of `scipy` \n",
    "* It is fairly restricted in its flexibility as it is optimized to calculate a linear least-squares regression for two sets of measurements only. \n",
    "* You cannot fit a generalized linear model or multi-variate regression using this. \n",
    "* Because of its specialized nature, it is one of the fastest methods when it comes to simple linear regression. "
   ]
  },
  {
   "cell_type": "code",
   "execution_count": 25,
   "metadata": {
    "slideshow": {
     "slide_type": "slide"
    }
   },
   "outputs": [
    {
     "name": "stdout",
     "output_type": "stream",
     "text": [
      "--------------------------------------\n",
      "slope:  2.4908942459878394 \n",
      "\n",
      "intercept:  -3.5423554637163086 \n",
      "\n",
      "r-squared:  0.6754591129106784 \n",
      "\n",
      "p-value:  1.0978889281704885e-25 \n",
      "\n",
      "standard error:  0.17441242816616506\n",
      "--------------------------------------\n"
     ]
    }
   ],
   "source": [
    "slope, intercept, r_value, p_value, std_err = stats.linregress(x_data, y_data)\n",
    "\n",
    "print('--------------------------------------')\n",
    "print('slope: ',slope,'\\n')\n",
    "print('intercept: ',intercept,'\\n')\n",
    "print('r-squared: ',r_value**2,'\\n')\n",
    "print('p-value: ',p_value,'\\n')\n",
    "print('standard error: ',std_err)\n",
    "print('--------------------------------------')"
   ]
  },
  {
   "cell_type": "markdown",
   "metadata": {
    "slideshow": {
     "slide_type": "slide"
    }
   },
   "source": [
    "# Method 3: `scipy.optimize.curvefit()`"
   ]
  },
  {
   "cell_type": "code",
   "execution_count": 26,
   "metadata": {
    "slideshow": {
     "slide_type": "fragment"
    }
   },
   "outputs": [],
   "source": [
    "from scipy import optimize"
   ]
  },
  {
   "cell_type": "markdown",
   "metadata": {
    "slideshow": {
     "slide_type": "fragment"
    }
   },
   "source": [
    "This is along the same line as the `polyfit` method, but more general in nature. This powerful function from `scipy.optimize` module can fit any user-defined function to a data set by doing least-square minimization.\n",
    "\n",
    "* For simple linear regression, one can just write a linear mx+b function and call this estimator. \n",
    "* Works for multi-variate regression too. \n",
    "* It returns an array of function parameters for which the least-squares measure is minimized and the associated covariance matrix.\n",
    "\n",
    "see full documentation here: https://docs.scipy.org/doc/scipy/reference/generated/scipy.optimize.curve_fit.html"
   ]
  },
  {
   "cell_type": "code",
   "execution_count": 27,
   "metadata": {
    "slideshow": {
     "slide_type": "fragment"
    }
   },
   "outputs": [
    {
     "data": {
      "text/plain": [
       "array([ 2.49089425, -3.54235547])"
      ]
     },
     "execution_count": 27,
     "metadata": {},
     "output_type": "execute_result"
    }
   ],
   "source": [
    "popt, pcov = optimize.curve_fit(linear_model,x_data, y_data)\n",
    "\n",
    "popt"
   ]
  },
  {
   "cell_type": "markdown",
   "metadata": {
    "slideshow": {
     "slide_type": "slide"
    }
   },
   "source": [
    "# Method 4: `numpy.linalg.lstsq`"
   ]
  },
  {
   "cell_type": "code",
   "execution_count": 28,
   "metadata": {
    "slideshow": {
     "slide_type": "fragment"
    }
   },
   "outputs": [],
   "source": [
    "import numpy.linalg as LA"
   ]
  },
  {
   "cell_type": "markdown",
   "metadata": {
    "slideshow": {
     "slide_type": "fragment"
    }
   },
   "source": [
    "This is the fundamental method of calculating least-square solution to a linear system of equation by matrix factorization. It comes from the handy linear algebra module of numpy package. Under the hood, it solves the equation a x = b by computing a vector x that minimizes the Euclidean 2-norm || b — a x ||².\n",
    "\n",
    "The equation may be under-, well-, or over- determined (i.e., the number of linearly independent rows of a can be less than, equal to, or greater than its number of linearly independent columns). If a is square and of full rank, then x (but for round-off error) is the “exact” solution of the equation.\n",
    "\n",
    "You can do either simple or multi-variate regression with this and get back the calculated coefficients and residuals. One little trick is that before calling this function you have to append a column of 1’s to the x data to calculate the intercept term. Turns out it is one of the faster methods to try for linear regression problems.\n",
    "\n",
    "(see https://docs.scipy.org/doc/numpy-1.13.0/reference/generated/numpy.linalg.lstsq.html#numpy.linalg.lstsq)"
   ]
  },
  {
   "cell_type": "code",
   "execution_count": 29,
   "metadata": {
    "slideshow": {
     "slide_type": "slide"
    }
   },
   "outputs": [
    {
     "data": {
      "text/plain": [
       "array([[ 1.76405235,  1.        ],\n",
       "       [ 0.50015721,  1.        ],\n",
       "       [ 1.17873798,  1.        ],\n",
       "       [ 2.5408932 ,  1.        ],\n",
       "       [ 2.26755799,  1.        ],\n",
       "       [-0.47727788,  1.        ],\n",
       "       [ 1.55008842,  1.        ],\n",
       "       [ 0.54864279,  1.        ],\n",
       "       [ 0.69678115,  1.        ],\n",
       "       [ 1.3105985 ,  1.        ]])"
      ]
     },
     "execution_count": 29,
     "metadata": {},
     "output_type": "execute_result"
    }
   ],
   "source": [
    "A = np.vstack([x_data, np.ones(len(x_data))]).T # append column of onese\n",
    "A[:10,:] # see what matrix A looks like"
   ]
  },
  {
   "cell_type": "code",
   "execution_count": 30,
   "metadata": {
    "slideshow": {
     "slide_type": "fragment"
    }
   },
   "outputs": [
    {
     "name": "stdout",
     "output_type": "stream",
     "text": [
      "2.490894245987838 -3.542355463716304\n"
     ]
    },
    {
     "name": "stderr",
     "output_type": "stream",
     "text": [
      "C:\\Users\\jenni\\Anaconda3\\lib\\site-packages\\ipykernel_launcher.py:1: FutureWarning: `rcond` parameter will change to the default of machine precision times ``max(M, N)`` where M and N are the input matrix dimensions.\n",
      "To use the future default and silence this warning we advise to pass `rcond=None`, to keep using the old, explicitly pass `rcond=-1`.\n",
      "  \"\"\"Entry point for launching an IPython kernel.\n"
     ]
    }
   ],
   "source": [
    "slope, intercept  = LA.lstsq(A, y_data)[0]\n",
    "\n",
    "print(slope,intercept)"
   ]
  },
  {
   "cell_type": "markdown",
   "metadata": {
    "slideshow": {
     "slide_type": "slide"
    }
   },
   "source": [
    "# Method 5: `statsmodels`"
   ]
  },
  {
   "cell_type": "markdown",
   "metadata": {
    "slideshow": {
     "slide_type": "fragment"
    }
   },
   "source": [
    "`statsmodels` is a great Python package that provides **classes** and **functions** for the estimation of many different statistical models, as well as for conducting statistical tests, and statistical data exploration. An extensive list of result statistics are available for each estimator. The results are tested against existing statistical packages to ensure correctness.\n",
    "\n",
    "For linear regression, one can use the OLS or **Ordinary Least Squares** function from this package and obtain the full blown statistical information about the estimation process.\n",
    "\n",
    "One little trick to remember is that you have to add a constant manually to the x data for calculating the intercept, otherwise by default it will report the coefficient only. Below is the snapshot of the full results summary of the OLS model. It is as rich as any functional statistical language like R or Julia.\n",
    "\n",
    "see https://www.statsmodels.org/dev/examples/notebooks/generated/ols.html"
   ]
  },
  {
   "cell_type": "code",
   "execution_count": 32,
   "metadata": {
    "slideshow": {
     "slide_type": "slide"
    }
   },
   "outputs": [
    {
     "name": "stdout",
     "output_type": "stream",
     "text": [
      "                            OLS Regression Results                            \n",
      "==============================================================================\n",
      "Dep. Variable:                      y   R-squared:                       0.675\n",
      "Model:                            OLS   Adj. R-squared:                  0.672\n",
      "Method:                 Least Squares   F-statistic:                     204.0\n",
      "Date:                Tue, 21 Apr 2020   Prob (F-statistic):           1.10e-25\n",
      "Time:                        10:56:54   Log-Likelihood:                -305.52\n",
      "No. Observations:                 100   AIC:                             615.0\n",
      "Df Residuals:                      98   BIC:                             620.2\n",
      "Df Model:                           1                                         \n",
      "Covariance Type:            nonrobust                                         \n",
      "==============================================================================\n",
      "                 coef    std err          t      P>|t|      [0.025      0.975]\n",
      "------------------------------------------------------------------------------\n",
      "const         -3.5424      1.016     -3.486      0.001      -5.559      -1.526\n",
      "x1             2.4909      0.174     14.282      0.000       2.145       2.837\n",
      "==============================================================================\n",
      "Omnibus:                        8.252   Durbin-Watson:                   1.993\n",
      "Prob(Omnibus):                  0.016   Jarque-Bera (JB):                3.715\n",
      "Skew:                           0.198   Prob(JB):                        0.156\n",
      "Kurtosis:                       2.143   Cond. No.                         11.7\n",
      "==============================================================================\n",
      "\n",
      "Warnings:\n",
      "[1] Standard Errors assume that the covariance matrix of the errors is correctly specified.\n"
     ]
    }
   ],
   "source": [
    "import statsmodels.api as sm\n",
    "A = sm.add_constant(x_data) # Our model needs an intercept so we add a column of 1s\n",
    "results = sm.OLS(y_data, A).fit()\n",
    "print(results.summary())"
   ]
  },
  {
   "cell_type": "markdown",
   "metadata": {
    "slideshow": {
     "slide_type": "slide"
    }
   },
   "source": [
    "Quantities of interest can be extracted directly from the fitted model. Type `dir(results)` for a full list. Here are some examples:"
   ]
  },
  {
   "cell_type": "code",
   "execution_count": 33,
   "metadata": {
    "slideshow": {
     "slide_type": "fragment"
    }
   },
   "outputs": [
    {
     "name": "stdout",
     "output_type": "stream",
     "text": [
      "Parameters:  [-3.54235546  2.49089425]\n",
      "R2:  0.675459112910678\n"
     ]
    }
   ],
   "source": [
    "\n",
    "print('Parameters: ', results.params) # notice the intercept is first, then the slope\n",
    "print('R2: ', results.rsquared)"
   ]
  },
  {
   "cell_type": "markdown",
   "metadata": {
    "slideshow": {
     "slide_type": "slide"
    }
   },
   "source": [
    "`statsmodels` supports specifying models using R-style formulas and pandas `DataFrames`!"
   ]
  },
  {
   "cell_type": "code",
   "execution_count": 34,
   "metadata": {
    "slideshow": {
     "slide_type": "fragment"
    }
   },
   "outputs": [
    {
     "data": {
      "text/html": [
       "<div>\n",
       "<style scoped>\n",
       "    .dataframe tbody tr th:only-of-type {\n",
       "        vertical-align: middle;\n",
       "    }\n",
       "\n",
       "    .dataframe tbody tr th {\n",
       "        vertical-align: top;\n",
       "    }\n",
       "\n",
       "    .dataframe thead th {\n",
       "        text-align: right;\n",
       "    }\n",
       "</style>\n",
       "<table border=\"1\" class=\"dataframe\">\n",
       "  <thead>\n",
       "    <tr style=\"text-align: right;\">\n",
       "      <th></th>\n",
       "      <th>x1</th>\n",
       "      <th>x2</th>\n",
       "      <th>y_data</th>\n",
       "    </tr>\n",
       "  </thead>\n",
       "  <tbody>\n",
       "    <tr>\n",
       "      <th>0</th>\n",
       "      <td>1.764052</td>\n",
       "      <td>0.017641</td>\n",
       "      <td>9.178695</td>\n",
       "    </tr>\n",
       "    <tr>\n",
       "      <th>1</th>\n",
       "      <td>0.500157</td>\n",
       "      <td>0.005002</td>\n",
       "      <td>-10.388371</td>\n",
       "    </tr>\n",
       "    <tr>\n",
       "      <th>2</th>\n",
       "      <td>1.178738</td>\n",
       "      <td>0.011787</td>\n",
       "      <td>-8.169832</td>\n",
       "    </tr>\n",
       "    <tr>\n",
       "      <th>3</th>\n",
       "      <td>2.540893</td>\n",
       "      <td>0.025409</td>\n",
       "      <td>6.707395</td>\n",
       "    </tr>\n",
       "    <tr>\n",
       "      <th>4</th>\n",
       "      <td>2.267558</td>\n",
       "      <td>0.022676</td>\n",
       "      <td>-4.743210</td>\n",
       "    </tr>\n",
       "  </tbody>\n",
       "</table>\n",
       "</div>"
      ],
      "text/plain": [
       "         x1        x2     y_data\n",
       "0  1.764052  0.017641   9.178695\n",
       "1  0.500157  0.005002 -10.388371\n",
       "2  1.178738  0.011787  -8.169832\n",
       "3  2.540893  0.025409   6.707395\n",
       "4  2.267558  0.022676  -4.743210"
      ]
     },
     "execution_count": 34,
     "metadata": {},
     "output_type": "execute_result"
    }
   ],
   "source": [
    "import statsmodels.api as sm\n",
    "import statsmodels.formula.api as smf\n",
    "\n",
    "# let's make up two variables here x1 and x2 and put them all into a dataframe\n",
    "dat = pd.DataFrame({'x1':x_data,'x2':x_data*1e-2,'y_data':y_data})\n",
    "dat.head()"
   ]
  },
  {
   "cell_type": "code",
   "execution_count": 35,
   "metadata": {
    "slideshow": {
     "slide_type": "slide"
    }
   },
   "outputs": [
    {
     "name": "stdout",
     "output_type": "stream",
     "text": [
      "                            OLS Regression Results                            \n",
      "==============================================================================\n",
      "Dep. Variable:                 y_data   R-squared:                       0.675\n",
      "Model:                            OLS   Adj. R-squared:                  0.672\n",
      "Method:                 Least Squares   F-statistic:                     204.0\n",
      "Date:                Tue, 21 Apr 2020   Prob (F-statistic):           1.10e-25\n",
      "Time:                        11:01:29   Log-Likelihood:                -305.52\n",
      "No. Observations:                 100   AIC:                             615.0\n",
      "Df Residuals:                      98   BIC:                             620.2\n",
      "Df Model:                           1                                         \n",
      "Covariance Type:            nonrobust                                         \n",
      "==============================================================================\n",
      "                 coef    std err          t      P>|t|      [0.025      0.975]\n",
      "------------------------------------------------------------------------------\n",
      "Intercept     -3.5424      1.016     -3.486      0.001      -5.559      -1.526\n",
      "x1             2.4906      0.174     14.282      0.000       2.145       2.837\n",
      "x2             0.0249      0.002     14.282      0.000       0.021       0.028\n",
      "==============================================================================\n",
      "Omnibus:                        8.252   Durbin-Watson:                   1.993\n",
      "Prob(Omnibus):                  0.016   Jarque-Bera (JB):                3.715\n",
      "Skew:                           0.198   Prob(JB):                        0.156\n",
      "Kurtosis:                       2.143   Cond. No.                     7.88e+17\n",
      "==============================================================================\n",
      "\n",
      "Warnings:\n",
      "[1] Standard Errors assume that the covariance matrix of the errors is correctly specified.\n",
      "[2] The smallest eigenvalue is 5.59e-33. This might indicate that there are\n",
      "strong multicollinearity problems or that the design matrix is singular.\n"
     ]
    }
   ],
   "source": [
    "model = smf.ols('y_data ~ x1+x2', data=dat)\n",
    "results = model.fit()\n",
    "print(results.summary())"
   ]
  },
  {
   "cell_type": "markdown",
   "metadata": {
    "slideshow": {
     "slide_type": "slide"
    }
   },
   "source": [
    "# Method 6: SciKitLearn (`sklearn`)"
   ]
  },
  {
   "cell_type": "markdown",
   "metadata": {
    "slideshow": {
     "slide_type": "fragment"
    }
   },
   "source": [
    "This is the quintessential method used by majority of machine learning engineers and data scientists. Of course, for real world problem, it is probably never much used and is replaced by cross-validated and regularized algorithms such as **LASSO regression** or **ridge regression**. But the essential core of those advanced functions lies in this model.\n",
    "\n",
    "Introductary examples can be found here: https://jakevdp.github.io/PythonDataScienceHandbook/05.06-linear-regression.html (this resource is a full online textbook with accompanying notebooks)\n",
    "\n",
    "The scikitlearn documentation is here: https://scikit-learn.org/stable/modules/generated/sklearn.linear_model.LinearRegression.html\n",
    "\n",
    "(Ridge and LASSO regression reduce model complexity and prevent over-fitting. With ridge regression the cost function is altered by adding a penalty equivalent to square of the magnitude of the coefficients aka L2 norm. With LASSO, the penalty is for the magnitude of the coeffecients aka L1 norm. This type of regularization (L1) can lead to sparse/zero coefficients)"
   ]
  },
  {
   "cell_type": "code",
   "execution_count": 36,
   "metadata": {
    "slideshow": {
     "slide_type": "slide"
    }
   },
   "outputs": [],
   "source": [
    "from sklearn.linear_model import LinearRegression"
   ]
  },
  {
   "cell_type": "code",
   "execution_count": 37,
   "metadata": {
    "slideshow": {
     "slide_type": "fragment"
    }
   },
   "outputs": [
    {
     "name": "stdout",
     "output_type": "stream",
     "text": [
      "model slope:     2.490894245987837\n",
      "model intercept: -3.542355463716298\n"
     ]
    }
   ],
   "source": [
    "model = LinearRegression(fit_intercept=True)\n",
    "\n",
    "model.fit(x_data.reshape(-1,1), y_data)\n",
    "\n",
    "print(\"model slope:    \", model.coef_[0])\n",
    "print(\"model intercept:\", model.intercept_)"
   ]
  },
  {
   "cell_type": "code",
   "execution_count": 38,
   "metadata": {
    "slideshow": {
     "slide_type": "slide"
    }
   },
   "outputs": [
    {
     "data": {
      "image/png": "[encoded data removed]",
      "text/plain": [
       "<Figure size 432x288 with 1 Axes>"
      ]
     },
     "metadata": {
      "needs_background": "light"
     },
     "output_type": "display_data"
    }
   ],
   "source": [
    "y_pred = model.predict(x_data.reshape(-1,1))\n",
    "\n",
    "\n",
    "plt.axvline(color='gray')\n",
    "plt.axhline(color='gray')\n",
    "\n",
    "plt.scatter(x_data,y_data,color='C9',label='data')\n",
    "plt.plot(x,linear_model(x,m,b),linewidth=3,label='ground truth')\n",
    "plt.plot(x_data,y_pred,'-',linewidth=3,label='prediction')\n",
    "\n",
    "plt.legend()\n",
    "plt.show()"
   ]
  },
  {
   "cell_type": "markdown",
   "metadata": {
    "slideshow": {
     "slide_type": "slide"
    }
   },
   "source": [
    "# What is special about these last two methods?"
   ]
  },
  {
   "cell_type": "markdown",
   "metadata": {
    "slideshow": {
     "slide_type": "fragment"
    }
   },
   "source": [
    "First we create a `LinearRegression` object:"
   ]
  },
  {
   "cell_type": "code",
   "execution_count": 39,
   "metadata": {
    "slideshow": {
     "slide_type": "fragment"
    }
   },
   "outputs": [],
   "source": [
    "model = LinearRegression(fit_intercept=True)"
   ]
  },
  {
   "cell_type": "markdown",
   "metadata": {
    "slideshow": {
     "slide_type": "fragment"
    }
   },
   "source": [
    "Then we apply a method `fit()` to it:"
   ]
  },
  {
   "cell_type": "code",
   "execution_count": 40,
   "metadata": {
    "slideshow": {
     "slide_type": "fragment"
    }
   },
   "outputs": [
    {
     "data": {
      "text/plain": [
       "LinearRegression(copy_X=True, fit_intercept=True, n_jobs=None, normalize=False)"
      ]
     },
     "execution_count": 40,
     "metadata": {},
     "output_type": "execute_result"
    }
   ],
   "source": [
    "model.fit(x_data.reshape(-1,1), y_data)"
   ]
  },
  {
   "cell_type": "markdown",
   "metadata": {
    "slideshow": {
     "slide_type": "fragment"
    }
   },
   "source": [
    "And another method `predict()`"
   ]
  },
  {
   "cell_type": "code",
   "execution_count": 41,
   "metadata": {
    "slideshow": {
     "slide_type": "fragment"
    }
   },
   "outputs": [],
   "source": [
    "y_pred = model.predict(x_data.reshape(-1,1))"
   ]
  },
  {
   "cell_type": "markdown",
   "metadata": {
    "slideshow": {
     "slide_type": "slide"
    }
   },
   "source": [
    "In addition, the 'object' we've called `model` stores values like `coef_` and `intercept_`"
   ]
  },
  {
   "cell_type": "code",
   "execution_count": 42,
   "metadata": {
    "slideshow": {
     "slide_type": "fragment"
    }
   },
   "outputs": [
    {
     "name": "stdout",
     "output_type": "stream",
     "text": [
      "model slope:     2.490894245987837\n",
      "model intercept: -3.542355463716298\n"
     ]
    }
   ],
   "source": [
    "print(\"model slope:    \", model.coef_[0])\n",
    "print(\"model intercept:\", model.intercept_)"
   ]
  },
  {
   "cell_type": "markdown",
   "metadata": {
    "slideshow": {
     "slide_type": "fragment"
    }
   },
   "source": [
    "# We've moved from functions to Classes!"
   ]
  },
  {
   "cell_type": "markdown",
   "metadata": {
    "slideshow": {
     "slide_type": "slide"
    }
   },
   "source": [
    "# Why Classes?"
   ]
  },
  {
   "cell_type": "markdown",
   "metadata": {
    "slideshow": {
     "slide_type": "fragment"
    }
   },
   "source": [
    "Aren't we better off in a classless society? (see [Monty Python - Constitutional Peasants](https://www.youtube.com/watch?v=t2c-X8HiBng))\n",
    "\n",
    "> Classless society, in Marxism, the ultimate condition of social organization, expected to occur when true communism is achieved. \n",
    "\n",
    "> According to Karl Marx (1818–83), the primary function of the state is to repress the lower classes of society in the interests of the ruling class. However, after the class struggle has resulted in the victory of the proletariat and the establishment of a socialist society, there will be no further need for such a repressive institution; with the disappearance of classes, the state is expected to “wither away.” (https://www.britannica.com/topic/classless-society)"
   ]
  },
  {
   "cell_type": "markdown",
   "metadata": {
    "slideshow": {
     "slide_type": "slide"
    }
   },
   "source": [
    "> `Daved:` Basically classes help you take all the properties and behaviors of an object in your program, and combine them into a single interface, then re-use that interface wherever you need that type of object in your program."
   ]
  },
  {
   "cell_type": "markdown",
   "metadata": {
    "slideshow": {
     "slide_type": "fragment"
    }
   },
   "source": [
    "> `twomers:`  Having functions and operators associated with a variable is very very handy. Saves you having to remember functions manipulate variables etc. I love them "
   ]
  },
  {
   "cell_type": "markdown",
   "metadata": {
    "slideshow": {
     "slide_type": "fragment"
    }
   },
   "source": [
    ">`DougDbug:` For small programs, I wouldn't say object oriented programming is \"easier\". But for large complex projects, it's easier to design and maintain the program."
   ]
  },
  {
   "cell_type": "markdown",
   "metadata": {
    "slideshow": {
     "slide_type": "fragment"
    }
   },
   "source": [
    "(from https://cboard.cprogramming.com/cplusplus-programming/87299-why-classes-useful.html)"
   ]
  },
  {
   "cell_type": "markdown",
   "metadata": {
    "slideshow": {
     "slide_type": "slide"
    }
   },
   "source": [
    "# Why Object-Orient Programming?"
   ]
  },
  {
   "cell_type": "markdown",
   "metadata": {
    "slideshow": {
     "slide_type": "fragment"
    }
   },
   "source": [
    "**Object-oriented programming (OOP)** refers to a type of computer programming (software design) in which programmers define the **data type of a data structure**, and also the types of **operations (functions)** that can be applied to the data structure."
   ]
  },
  {
   "cell_type": "markdown",
   "metadata": {
    "slideshow": {
     "slide_type": "fragment"
    }
   },
   "source": [
    "**In this way, the data structure becomes an object that includes both data and functions**"
   ]
  },
  {
   "cell_type": "markdown",
   "metadata": {
    "slideshow": {
     "slide_type": "slide"
    }
   },
   "source": [
    "### Basic OOP Concepts:"
   ]
  },
  {
   "cell_type": "markdown",
   "metadata": {
    "slideshow": {
     "slide_type": "fragment"
    }
   },
   "source": [
    "* **Abstraction:** The process of picking out (abstracting) common features of objects and procedures."
   ]
  },
  {
   "cell_type": "markdown",
   "metadata": {
    "slideshow": {
     "slide_type": "fragment"
    }
   },
   "source": [
    "* **Class:** A category of objects. The class defines all the common properties of the different objects that belong to it."
   ]
  },
  {
   "cell_type": "markdown",
   "metadata": {
    "slideshow": {
     "slide_type": "fragment"
    }
   },
   "source": [
    "* **Information hiding:** The process of hiding details of an object or function. Information hiding is a powerful programming technique because it reduces complexity."
   ]
  },
  {
   "cell_type": "markdown",
   "metadata": {
    "slideshow": {
     "slide_type": "fragment"
    }
   },
   "source": [
    "* **Inheritance:** a feature that represents the \"is a\" relationship between different classes."
   ]
  },
  {
   "cell_type": "markdown",
   "metadata": {
    "slideshow": {
     "slide_type": "fragment"
    }
   },
   "source": [
    "* **Object:** a self-contained entity that consists of both data and procedures to manipulate the data."
   ]
  },
  {
   "cell_type": "markdown",
   "metadata": {
    "slideshow": {
     "slide_type": "fragment"
    }
   },
   "source": [
    "* **Polymorphism:** A programming language's ability to process objects differently depending on their data type or class"
   ]
  },
  {
   "cell_type": "markdown",
   "metadata": {
    "slideshow": {
     "slide_type": "fragment"
    }
   },
   "source": [
    "(source https://www.webopedia.com/TERM/O/object_oriented_programming_OOP.html)"
   ]
  },
  {
   "cell_type": "markdown",
   "metadata": {
    "slideshow": {
     "slide_type": "slide"
    }
   },
   "source": [
    "# Basic Example: Class"
   ]
  },
  {
   "cell_type": "markdown",
   "metadata": {
    "slideshow": {
     "slide_type": "fragment"
    }
   },
   "source": [
    "This was taken from the following resource: http://hplgit.github.io/primer.html/doc/pub/class/._class-readable001.html#sec:class:functors"
   ]
  },
  {
   "cell_type": "markdown",
   "metadata": {
    "slideshow": {
     "slide_type": "fragment"
    }
   },
   "source": [
    "* A class contains a set of variables (data) and a set of functions, or methods, held together as one unit.\n",
    "\n",
    "* The variables are visible in all the functions in the class. That is, we can view the variables as \"global\" in these functions. However these variables are not accessible separate from the class (this type of **information hiding** is powerful)\n",
    "\n",
    "* You can also make many copies of a class"
   ]
  },
  {
   "cell_type": "markdown",
   "metadata": {
    "slideshow": {
     "slide_type": "fragment"
    }
   },
   "source": [
    "* Every class must have a name, often starting with a capital by convention a class usually has another function, called constructor for initializing the data\n",
    "* The constructor is always named __init__.\n"
   ]
  },
  {
   "cell_type": "code",
   "execution_count": 43,
   "metadata": {
    "slideshow": {
     "slide_type": "slide"
    }
   },
   "outputs": [],
   "source": [
    "# This is just a function\n",
    "def linear_model(x,m,b):\n",
    "    \n",
    "    y = m*x + b\n",
    "    \n",
    "    return y"
   ]
  },
  {
   "cell_type": "code",
   "execution_count": 44,
   "metadata": {
    "slideshow": {
     "slide_type": "fragment"
    }
   },
   "outputs": [],
   "source": [
    "# This is a class!!\n",
    "class LinearModel():\n",
    "    \n",
    "    def __init__(self,m,b):\n",
    "        self.m = m\n",
    "        self.b = b"
   ]
  },
  {
   "cell_type": "code",
   "execution_count": 45,
   "metadata": {
    "slideshow": {
     "slide_type": "slide"
    }
   },
   "outputs": [
    {
     "ename": "TypeError",
     "evalue": "__init__() missing 2 required positional arguments: 'm' and 'b'",
     "output_type": "error",
     "traceback": [
      "\u001b[1;31m---------------------------------------------------------------------------\u001b[0m",
      "\u001b[1;31mTypeError\u001b[0m                                 Traceback (most recent call last)",
      "\u001b[1;32m<ipython-input-45-8423b03eff48>\u001b[0m in \u001b[0;36m<module>\u001b[1;34m\u001b[0m\n\u001b[1;32m----> 1\u001b[1;33m \u001b[0mlm\u001b[0m \u001b[1;33m=\u001b[0m \u001b[0mLinearModel\u001b[0m\u001b[1;33m(\u001b[0m\u001b[1;33m)\u001b[0m\u001b[1;33m\u001b[0m\u001b[1;33m\u001b[0m\u001b[0m\n\u001b[0m",
      "\u001b[1;31mTypeError\u001b[0m: __init__() missing 2 required positional arguments: 'm' and 'b'"
     ]
    }
   ],
   "source": [
    "lm = LinearModel()"
   ]
  },
  {
   "cell_type": "code",
   "execution_count": 46,
   "metadata": {
    "slideshow": {
     "slide_type": "fragment"
    }
   },
   "outputs": [],
   "source": [
    "lm = LinearModel(m=2,b=5)"
   ]
  },
  {
   "cell_type": "code",
   "execution_count": 47,
   "metadata": {
    "slideshow": {
     "slide_type": "fragment"
    }
   },
   "outputs": [
    {
     "data": {
      "text/plain": [
       "<__main__.LinearModel at 0x29a6fd4eef0>"
      ]
     },
     "execution_count": 47,
     "metadata": {},
     "output_type": "execute_result"
    }
   ],
   "source": [
    "lm"
   ]
  },
  {
   "cell_type": "markdown",
   "metadata": {
    "slideshow": {
     "slide_type": "slide"
    }
   },
   "source": [
    "`lm` is an **Object** that is part of the `LinearModel` **Class**"
   ]
  },
  {
   "cell_type": "code",
   "execution_count": 48,
   "metadata": {
    "slideshow": {
     "slide_type": "fragment"
    }
   },
   "outputs": [
    {
     "data": {
      "text/plain": [
       "2.7"
      ]
     },
     "execution_count": 48,
     "metadata": {},
     "output_type": "execute_result"
    }
   ],
   "source": [
    "m # this is the m defined in the notebok above"
   ]
  },
  {
   "cell_type": "code",
   "execution_count": 49,
   "metadata": {
    "slideshow": {
     "slide_type": "fragment"
    }
   },
   "outputs": [
    {
     "data": {
      "text/plain": [
       "2"
      ]
     },
     "execution_count": 49,
     "metadata": {},
     "output_type": "execute_result"
    }
   ],
   "source": [
    "lm.m # this is the m assigned to this specific object instance\n"
   ]
  },
  {
   "cell_type": "code",
   "execution_count": 50,
   "metadata": {
    "slideshow": {
     "slide_type": "fragment"
    }
   },
   "outputs": [
    {
     "data": {
      "text/plain": [
       "5"
      ]
     },
     "execution_count": 50,
     "metadata": {},
     "output_type": "execute_result"
    }
   ],
   "source": [
    "lm.b"
   ]
  },
  {
   "cell_type": "markdown",
   "metadata": {
    "slideshow": {
     "slide_type": "slide"
    }
   },
   "source": [
    "Let's define another method:"
   ]
  },
  {
   "cell_type": "code",
   "execution_count": 51,
   "metadata": {
    "slideshow": {
     "slide_type": "fragment"
    }
   },
   "outputs": [],
   "source": [
    "class LinearModel():\n",
    "    \n",
    "    def __init__(self,m,b):\n",
    "        self.m = m\n",
    "        self.b = b\n",
    "        \n",
    "    def output(self,x):\n",
    "        \n",
    "        y = self.m*x + self.b\n",
    "        \n",
    "        return y"
   ]
  },
  {
   "cell_type": "markdown",
   "metadata": {
    "slideshow": {
     "slide_type": "fragment"
    }
   },
   "source": [
    "An **object** of a user-defined class (like `lm`) is usually called an **instance.**\n",
    "\n",
    "We need such an instance in order to use the data in the class and call the value function."
   ]
  },
  {
   "cell_type": "code",
   "execution_count": 52,
   "metadata": {
    "slideshow": {
     "slide_type": "slide"
    }
   },
   "outputs": [],
   "source": [
    "lm = LinearModel(m=2,b=5)"
   ]
  },
  {
   "cell_type": "markdown",
   "metadata": {
    "slideshow": {
     "slide_type": "fragment"
    }
   },
   "source": [
    "It looks like we call the class `LinearModel` as if it were a function. However, `LinearModel(m=2,b=5)` is automatically translated by Python to a call to the constructor `__init__` in class `LinearModel`. \n",
    "\n",
    "The arguments in the call, here `m=2,b=5`, are always passed on as arguments to `__init__` after the `self` argument. That is, `m` gets the value 2, `b` the value 5, and `self` is just dropped in the call."
   ]
  },
  {
   "cell_type": "code",
   "execution_count": 54,
   "metadata": {
    "slideshow": {
     "slide_type": "slide"
    }
   },
   "outputs": [
    {
     "data": {
      "text/plain": [
       "array([5. , 5.2, 5.4, 5.6, 5.8, 6. , 6.2, 6.4, 6.6, 6.8])"
      ]
     },
     "execution_count": 54,
     "metadata": {},
     "output_type": "execute_result"
    }
   ],
   "source": [
    "lm.output(np.arange(0,1,0.1))"
   ]
  },
  {
   "cell_type": "markdown",
   "metadata": {
    "slideshow": {
     "slide_type": "fragment"
    }
   },
   "source": [
    "We have already introduced the term **\"instance''** for the object of a class. \n",
    "\n",
    "Functions in classes are commonly called **methods**, and **variables** (data) in classes are called **data attributes**. \n",
    "\n",
    "Methods are also known as **method attributes**. \n",
    "\n",
    "In our sample class `LinearModel` we have two methods or method attributes, `__init__` and `output`, two data attributes, `m` and `b`, and four attributes in total (`__init__`, `output`,`m` and `b`). \n",
    "\n",
    "The names of attributes can be chosen freely, just as names of ordinary Python functions and variables. However, the constructor must have the name `__init__`, otherwise it is not automatically called when we create new instances.\n",
    "\n",
    "You can do whatever you want in whatever method, but it is a common convention to use the constructor for initializing the variables in the class.\n",
    "\n"
   ]
  },
  {
   "cell_type": "markdown",
   "metadata": {
    "slideshow": {
     "slide_type": "slide"
    }
   },
   "source": [
    "## PROBLEM: Write another method here called `print_equation` that prints the equation $y=mx+b$ with the values of $m$ and $b$"
   ]
  },
  {
   "cell_type": "code",
   "execution_count": 57,
   "metadata": {
    "slideshow": {
     "slide_type": "fragment"
    }
   },
   "outputs": [],
   "source": [
    "class LinearModel():\n",
    "    \n",
    "    def __init__(self,m,b):\n",
    "        self.m = m\n",
    "        self.b = b\n",
    "        \n",
    "    def output(self,x):\n",
    "        \n",
    "        y = self.m*x + self.b\n",
    "        \n",
    "        return y\n",
    "    \n",
    "    # write another method here called `print_equation` that prints the equation y=mx+b with the values of m and b\n",
    "    def print_equation(self):\n",
    "        print('y = {}x + {}'.format(self.m,self.b))"
   ]
  },
  {
   "cell_type": "code",
   "execution_count": 58,
   "metadata": {
    "slideshow": {
     "slide_type": "fragment"
    }
   },
   "outputs": [
    {
     "name": "stdout",
     "output_type": "stream",
     "text": [
      "y = 2x + 5\n"
     ]
    }
   ],
   "source": [
    "#Test your method here\n",
    "lm = LinearModel(m=2,b=5)\n",
    "lm.print_equation()"
   ]
  },
  {
   "cell_type": "markdown",
   "metadata": {
    "slideshow": {
     "slide_type": "slide"
    }
   },
   "source": [
    "# ..."
   ]
  },
  {
   "cell_type": "code",
   "execution_count": 59,
   "metadata": {
    "slideshow": {
     "slide_type": "slide"
    }
   },
   "outputs": [],
   "source": [
    "class LinearModel():\n",
    "    \n",
    "    def __init__(self,m,b):\n",
    "        self.m = m\n",
    "        self.b = b\n",
    "        \n",
    "    def output(self,x):\n",
    "        \n",
    "        y = self.m*x + self.b\n",
    "        \n",
    "        return y\n",
    "    \n",
    "    def print_equation(self):\n",
    "        \n",
    "        print('y = {}x + {}'.format(self.m,self.b))"
   ]
  },
  {
   "cell_type": "code",
   "execution_count": 60,
   "metadata": {
    "slideshow": {
     "slide_type": "fragment"
    }
   },
   "outputs": [
    {
     "name": "stdout",
     "output_type": "stream",
     "text": [
      "y = 2x + 5\n"
     ]
    }
   ],
   "source": [
    "lm = LinearModel(m=2,b=5)\n",
    "lm.print_equation()"
   ]
  },
  {
   "cell_type": "markdown",
   "metadata": {
    "slideshow": {
     "slide_type": "slide"
    }
   },
   "source": [
    "Does this class work for 2D arrays?"
   ]
  },
  {
   "cell_type": "code",
   "execution_count": 61,
   "metadata": {
    "slideshow": {
     "slide_type": "fragment"
    }
   },
   "outputs": [],
   "source": [
    "lm = LinearModel(m=2*np.ones((2)),b=np.ones(2)*5)"
   ]
  },
  {
   "cell_type": "code",
   "execution_count": 62,
   "metadata": {
    "slideshow": {
     "slide_type": "fragment"
    }
   },
   "outputs": [
    {
     "ename": "ValueError",
     "evalue": "operands could not be broadcast together with shapes (2,) (10,) ",
     "output_type": "error",
     "traceback": [
      "\u001b[1;31m---------------------------------------------------------------------------\u001b[0m",
      "\u001b[1;31mValueError\u001b[0m                                Traceback (most recent call last)",
      "\u001b[1;32m<ipython-input-62-7986dffda1f2>\u001b[0m in \u001b[0;36m<module>\u001b[1;34m\u001b[0m\n\u001b[1;32m----> 1\u001b[1;33m \u001b[0mlm\u001b[0m\u001b[1;33m.\u001b[0m\u001b[0moutput\u001b[0m\u001b[1;33m(\u001b[0m\u001b[0mnp\u001b[0m\u001b[1;33m.\u001b[0m\u001b[0marange\u001b[0m\u001b[1;33m(\u001b[0m\u001b[1;36m0\u001b[0m\u001b[1;33m,\u001b[0m\u001b[1;36m1\u001b[0m\u001b[1;33m,\u001b[0m\u001b[1;36m0.1\u001b[0m\u001b[1;33m)\u001b[0m\u001b[1;33m)\u001b[0m\u001b[1;33m\u001b[0m\u001b[1;33m\u001b[0m\u001b[0m\n\u001b[0m",
      "\u001b[1;32m<ipython-input-59-a64a63caa85b>\u001b[0m in \u001b[0;36moutput\u001b[1;34m(self, x)\u001b[0m\n\u001b[0;32m      7\u001b[0m     \u001b[1;32mdef\u001b[0m \u001b[0moutput\u001b[0m\u001b[1;33m(\u001b[0m\u001b[0mself\u001b[0m\u001b[1;33m,\u001b[0m\u001b[0mx\u001b[0m\u001b[1;33m)\u001b[0m\u001b[1;33m:\u001b[0m\u001b[1;33m\u001b[0m\u001b[1;33m\u001b[0m\u001b[0m\n\u001b[0;32m      8\u001b[0m \u001b[1;33m\u001b[0m\u001b[0m\n\u001b[1;32m----> 9\u001b[1;33m         \u001b[0my\u001b[0m \u001b[1;33m=\u001b[0m \u001b[0mself\u001b[0m\u001b[1;33m.\u001b[0m\u001b[0mm\u001b[0m\u001b[1;33m*\u001b[0m\u001b[0mx\u001b[0m \u001b[1;33m+\u001b[0m \u001b[0mself\u001b[0m\u001b[1;33m.\u001b[0m\u001b[0mb\u001b[0m\u001b[1;33m\u001b[0m\u001b[1;33m\u001b[0m\u001b[0m\n\u001b[0m\u001b[0;32m     10\u001b[0m \u001b[1;33m\u001b[0m\u001b[0m\n\u001b[0;32m     11\u001b[0m         \u001b[1;32mreturn\u001b[0m \u001b[0my\u001b[0m\u001b[1;33m\u001b[0m\u001b[1;33m\u001b[0m\u001b[0m\n",
      "\u001b[1;31mValueError\u001b[0m: operands could not be broadcast together with shapes (2,) (10,) "
     ]
    }
   ],
   "source": [
    "lm.output(np.arange(0,1,0.1))"
   ]
  },
  {
   "cell_type": "markdown",
   "metadata": {
    "slideshow": {
     "slide_type": "slide"
    }
   },
   "source": [
    "## PROBLEM: How might we create a class `LinearModelND` that works for N-dimensional data?"
   ]
  },
  {
   "cell_type": "markdown",
   "metadata": {
    "slideshow": {
     "slide_type": "fragment"
    }
   },
   "source": [
    "We could create a class from scratch\n",
    "\n",
    "Alternatively, would could create a class that **inherits** from `LinearModel`"
   ]
  },
  {
   "cell_type": "code",
   "execution_count": 63,
   "metadata": {
    "slideshow": {
     "slide_type": "fragment"
    }
   },
   "outputs": [],
   "source": [
    "class LinearModelND(LinearModel): # this is inheriting all data/method attributes from LinearModel\n",
    "    pass"
   ]
  },
  {
   "cell_type": "code",
   "execution_count": 64,
   "metadata": {
    "slideshow": {
     "slide_type": "fragment"
    }
   },
   "outputs": [],
   "source": [
    "lm_nd = LinearModelND(m=20,b=55)"
   ]
  },
  {
   "cell_type": "markdown",
   "metadata": {
    "slideshow": {
     "slide_type": "fragment"
    }
   },
   "source": [
    "This has all the same data/variables and methods as the `LinearModel` class"
   ]
  },
  {
   "cell_type": "code",
   "execution_count": 65,
   "metadata": {
    "slideshow": {
     "slide_type": "fragment"
    }
   },
   "outputs": [
    {
     "name": "stdout",
     "output_type": "stream",
     "text": [
      "y = 20x + 55\n"
     ]
    }
   ],
   "source": [
    "lm_nd.print_equation()"
   ]
  },
  {
   "cell_type": "markdown",
   "metadata": {
    "slideshow": {
     "slide_type": "slide"
    }
   },
   "source": [
    "## PROBLEM: Create a class `LinearModelND` that works for N-dimensional data using **inheritance**. Redefine the method `output` and nothing else (HINT: you have to use the dot product `@` instead of the element-wise product `*`)"
   ]
  },
  {
   "cell_type": "markdown",
   "metadata": {
    "slideshow": {
     "slide_type": "fragment"
    }
   },
   "source": [
    "# ..."
   ]
  },
  {
   "cell_type": "code",
   "execution_count": 66,
   "metadata": {
    "slideshow": {
     "slide_type": "slide"
    }
   },
   "outputs": [],
   "source": [
    "class LinearModelND(LinearModel):\n",
    "\n",
    "    def output(self,X):\n",
    "        # by convention X is a matrix and m is a vector\n",
    "        # @ is the dot product\n",
    "        y = X @ self.m + self.b # this does matrix multiplication\n",
    "        \n",
    "        return y"
   ]
  },
  {
   "cell_type": "code",
   "execution_count": 69,
   "metadata": {
    "slideshow": {
     "slide_type": "fragment"
    }
   },
   "outputs": [],
   "source": [
    "lm_nd = LinearModelND(m=20*np.ones((2)),b=np.ones(10)*55)"
   ]
  },
  {
   "cell_type": "code",
   "execution_count": 70,
   "metadata": {
    "slideshow": {
     "slide_type": "slide"
    }
   },
   "outputs": [
    {
     "data": {
      "text/plain": [
       "(10, 2)"
      ]
     },
     "execution_count": 70,
     "metadata": {},
     "output_type": "execute_result"
    }
   ],
   "source": [
    "# fake 2D data\n",
    "xx = np.linspace(10,50,10) + np.random.randn(10)\n",
    "xx = np.vstack((xx,xx-10)).T # stack and then transpose ... this is just for illustration\n",
    "xx.shape"
   ]
  },
  {
   "cell_type": "code",
   "execution_count": 71,
   "metadata": {
    "slideshow": {
     "slide_type": "fragment"
    }
   },
   "outputs": [
    {
     "data": {
      "image/png": "[encoded data removed]",
      "text/plain": [
       "<Figure size 432x288 with 1 Axes>"
      ]
     },
     "metadata": {
      "needs_background": "light"
     },
     "output_type": "display_data"
    }
   ],
   "source": [
    "yy = lm_nd.output(xx)\n",
    "\n",
    "plt.plot(xx,yy)\n",
    "plt.show()"
   ]
  },
  {
   "cell_type": "markdown",
   "metadata": {
    "slideshow": {
     "slide_type": "slide"
    }
   },
   "source": [
    "This creates a new `__init__` constructor method for `LinearModelND` but inherits the other methods:"
   ]
  },
  {
   "cell_type": "code",
   "execution_count": 72,
   "metadata": {
    "slideshow": {
     "slide_type": "fragment"
    }
   },
   "outputs": [],
   "source": [
    "class LinearModelND(LinearModel):\n",
    "\n",
    "    def __init__(self, m,b,dim):\n",
    "        self.m = m\n",
    "        self.b = b\n",
    "        self.dim = dim"
   ]
  },
  {
   "cell_type": "markdown",
   "metadata": {
    "slideshow": {
     "slide_type": "fragment"
    }
   },
   "source": [
    "The `super()` function makes the 'child' class inherit all the methods and properties from its 'parent' (e.g. `LinearModel`)\n",
    "\n",
    "* It makes class inheritance more manageable and extensible\n",
    "\n",
    "* More importantly, it allows for multiple inheritances!"
   ]
  },
  {
   "cell_type": "code",
   "execution_count": 73,
   "metadata": {
    "slideshow": {
     "slide_type": "fragment"
    }
   },
   "outputs": [],
   "source": [
    "class LinearModelND(LinearModel):\n",
    "\n",
    "    def __init__(self, m,b,dim):\n",
    "        super().__init__(m, b) # gets init from passed model LinearModel\n",
    "        self.dim = dim # this adds another variable to the intialization\n"
   ]
  },
  {
   "cell_type": "markdown",
   "metadata": {
    "slideshow": {
     "slide_type": "slide"
    }
   },
   "source": [
    "# The id, ego, and super-ego: Rules regarding `self`.\n",
    "* Any class method must have `self` as first argument.\n",
    "* `self` represents an (arbitrary) instance of the class.\n",
    "* To access any class attribute inside class methods, we must prefix with `self`, as in `self.name`, where name is the `name` of the attribute.\n",
    "* `self` is dropped as argument in calls to class methods."
   ]
  },
  {
   "cell_type": "markdown",
   "metadata": {
    "slideshow": {
     "slide_type": "slide"
    }
   },
   "source": [
    "# Break!\n",
    "\n",
    "(highly recommended Monty Python --> Constitutional Peasants Scene https://www.youtube.com/watch?v=t2c-X8HiBng)"
   ]
  },
  {
   "cell_type": "markdown",
   "metadata": {
    "slideshow": {
     "slide_type": "slide"
    }
   },
   "source": [
    "# Building a Linear Regression Class from Scratch"
   ]
  },
  {
   "cell_type": "markdown",
   "metadata": {
    "slideshow": {
     "slide_type": "fragment"
    }
   },
   "source": [
    "(This is inspired by the following post: https://towardsdatascience.com/linear-regression-from-scratch-with-numpy-implementation-finally-8e617d8e274c)\n",
    "\n",
    "We want our linear regression class to look something like this"
   ]
  },
  {
   "cell_type": "code",
   "execution_count": 74,
   "metadata": {
    "slideshow": {
     "slide_type": "fragment"
    }
   },
   "outputs": [
    {
     "ename": "IndentationError",
     "evalue": "expected an indented block (<ipython-input-74-6f417e876ea7>, line 7)",
     "output_type": "error",
     "traceback": [
      "\u001b[1;36m  File \u001b[1;32m\"<ipython-input-74-6f417e876ea7>\"\u001b[1;36m, line \u001b[1;32m7\u001b[0m\n\u001b[1;33m    def fit(self):\u001b[0m\n\u001b[1;37m      ^\u001b[0m\n\u001b[1;31mIndentationError\u001b[0m\u001b[1;31m:\u001b[0m expected an indented block\n"
     ]
    }
   ],
   "source": [
    "# this cell won't run properly\n",
    "\n",
    "class LinearRegression():\n",
    "    \n",
    "    def __init__(self):\n",
    "        \n",
    "    def fit(self):\n",
    "        \n",
    "    def score(self):\n",
    "        \n",
    "    def predict(self):\n",
    "        \n",
    "    def get_params(self):"
   ]
  },
  {
   "cell_type": "markdown",
   "metadata": {
    "slideshow": {
     "slide_type": "slide"
    }
   },
   "source": [
    "There are a few things to notice here:"
   ]
  },
  {
   "cell_type": "code",
   "execution_count": 75,
   "metadata": {
    "slideshow": {
     "slide_type": "fragment"
    }
   },
   "outputs": [],
   "source": [
    "class LinearRegression():\n",
    "    \n",
    "    def __init__(self,fit_intercept=True):\n",
    "        self.fit_intercept = True"
   ]
  },
  {
   "cell_type": "markdown",
   "metadata": {
    "slideshow": {
     "slide_type": "slide"
    }
   },
   "source": [
    "Let's now add the method `fit` that fits the optimal $m$ and $b$ values:"
   ]
  },
  {
   "cell_type": "code",
   "execution_count": 76,
   "metadata": {
    "slideshow": {
     "slide_type": "fragment"
    }
   },
   "outputs": [],
   "source": [
    "class LinearRegression():\n",
    "    \n",
    "    def __init__(self,fit_intercept=True):\n",
    "        self.fit_intercept = fit_intercept\n",
    "        \n",
    "    def fit(self,x,y_data):\n",
    "        \n",
    "        x_mean = np.mean(x)\n",
    "        y_data_mean = np.mean(y_data)\n",
    "        \n",
    "        numerator = np.sum((x-x_mean)*(y_data-y_data_mean))\n",
    "        denomenator = np.sum((x-x_mean)**2)\n",
    "    \n",
    "        m_opt = numerator/denomenator\n",
    "        self.m = m_opt\n",
    "\n",
    "        if self.fit_intercept: # notice this boolean clause\n",
    "            b_opt = y_data_mean - m_opt * x_mean\n",
    "            self.b = b_opt"
   ]
  },
  {
   "cell_type": "markdown",
   "metadata": {
    "slideshow": {
     "slide_type": "slide"
    }
   },
   "source": [
    "Next, let's add a method `predict()` that predicts $y$ based on the optimally estimated $m$ and $b$"
   ]
  },
  {
   "cell_type": "code",
   "execution_count": 77,
   "metadata": {
    "slideshow": {
     "slide_type": "fragment"
    }
   },
   "outputs": [],
   "source": [
    "class LinearRegression():\n",
    "    \n",
    "    def __init__(self,fit_intercept=True):\n",
    "        self.fit_intercept = fit_intercept\n",
    "        \n",
    "    def fit(self,x,y_data):\n",
    "        \n",
    "        x_mean = np.mean(x)\n",
    "        y_data_mean = np.mean(y_data)\n",
    "        \n",
    "        numerator = np.sum((x-x_mean)*(y_data-y_data_mean))\n",
    "        denomenator = np.sum((x-x_mean)**2)\n",
    "    \n",
    "        m_opt = numerator/denomenator\n",
    "        self.m = m_opt\n",
    "\n",
    "        if self.fit_intercept:\n",
    "            b_opt = y_data_mean - m_opt * x_mean\n",
    "            self.b = b_opt\n",
    "            \n",
    "    def predict(self,x):\n",
    "        \n",
    "        if self.fit_intercept:\n",
    "            y_pred = self.m*x + self.b\n",
    "        else:\n",
    "            y_pred = self.m*x\n",
    "        return y_pred"
   ]
  },
  {
   "cell_type": "markdown",
   "metadata": {
    "slideshow": {
     "slide_type": "slide"
    }
   },
   "source": [
    "Let's test our class!"
   ]
  },
  {
   "cell_type": "code",
   "execution_count": 79,
   "metadata": {
    "slideshow": {
     "slide_type": "fragment"
    }
   },
   "outputs": [],
   "source": [
    "# generate the data again\n",
    "x = np.arange(0,10,0.1)\n",
    "m = 2.7\n",
    "b = -5\n",
    "np.random.seed(0)\n",
    "y = m*x + b # we assume we know the ground truth here\n",
    "x_data = x + np.random.randn(len(x))\n",
    "y_data = m*x_data + b + np.random.randn(len(x))*5\n",
    "\n",
    "\n",
    "# create instance of class\n",
    "model = LinearRegression() # fitintercept was defaulted to True in class\n",
    "\n",
    "# call method to class object\n",
    "model.fit(x_data,y_data)\n",
    "\n",
    "# call another method on instance/object\n",
    "y_pred = model.predict(x_data)"
   ]
  },
  {
   "cell_type": "code",
   "execution_count": 80,
   "metadata": {
    "slideshow": {
     "slide_type": "slide"
    }
   },
   "outputs": [
    {
     "data": {
      "image/png": "[encoded data removed]",
      "text/plain": [
       "<Figure size 432x288 with 1 Axes>"
      ]
     },
     "metadata": {
      "needs_background": "light"
     },
     "output_type": "display_data"
    }
   ],
   "source": [
    "plt.axvline(color='gray')\n",
    "plt.axhline(color='gray')\n",
    "\n",
    "plt.scatter(x_data,y_data,color='C9',label='data')\n",
    "plt.plot(x,y,'-',linewidth=3,label='ground truth')\n",
    "plt.plot(x_data,y_pred,'-',linewidth=3,label='prediction')\n",
    "\n",
    "plt.legend()\n",
    "plt.show()"
   ]
  },
  {
   "cell_type": "markdown",
   "metadata": {
    "slideshow": {
     "slide_type": "slide"
    }
   },
   "source": [
    "We can have an internal method `__linear_model` that outputs the prediction equation. This is meant to illustrate the convention that methods with `__` are only used inside the class definition"
   ]
  },
  {
   "cell_type": "code",
   "execution_count": 82,
   "metadata": {
    "slideshow": {
     "slide_type": "fragment"
    }
   },
   "outputs": [],
   "source": [
    "class LinearRegression():\n",
    "    \n",
    "    def __init__(self,fit_intercept=True):\n",
    "        self.fit_intercept = fit_intercept\n",
    "        \n",
    "    def fit(self,x,y_data):\n",
    "        \n",
    "        x_mean = np.mean(x)\n",
    "        y_data_mean = np.mean(y_data)\n",
    "        \n",
    "        numerator = np.sum((x-x_mean)*(y_data-y_data_mean))\n",
    "        denomenator = np.sum((x-x_mean)**2)\n",
    "    \n",
    "        m_opt = numerator/denomenator\n",
    "        self.m = m_opt\n",
    "\n",
    "        if self.fit_intercept:\n",
    "            b_opt = y_data_mean - m_opt * x_mean\n",
    "            self.b = b_opt\n",
    "            \n",
    "    def predict(self,x):\n",
    "        \n",
    "        return __linear_model(x)\n",
    "    \n",
    "    def __linear_model(self,x,m,b=0):\n",
    "        if self.fit_intercept:\n",
    "            y_pred = self.m*x + self.b\n",
    "        else:\n",
    "            y_pred = self.m*x\n",
    "        return y_pred"
   ]
  },
  {
   "cell_type": "markdown",
   "metadata": {
    "slideshow": {
     "slide_type": "slide"
    }
   },
   "source": [
    "Finally, let's add a `score` method that returns the $R^2$ value"
   ]
  },
  {
   "cell_type": "code",
   "execution_count": 84,
   "metadata": {
    "slideshow": {
     "slide_type": "fragment"
    }
   },
   "outputs": [],
   "source": [
    "class LinearRegression():\n",
    "    \n",
    "    def __init__(self,fit_intercept=True):\n",
    "        self.fit_intercept = fit_intercept\n",
    "            \n",
    "    def score(self,x,y):\n",
    "        ss_res = np.sum((y - self.predict(x))**2) # residual sum of squares\n",
    "        ss_tot = np.sum((y - np.mean(y))**2) # total sum of squares\n",
    "        r2 = 1-ss_res/ss_tot\n",
    "        \n",
    "        return r2\n",
    "    \n",
    "    def fit(self,x,y_data):\n",
    "        x_mean = np.mean(x)\n",
    "        y_data_mean = np.mean(y_data)\n",
    "        numerator = np.sum((x-x_mean)*(y_data-y_data_mean))\n",
    "        denomenator = np.sum((x-x_mean)**2)\n",
    "        m_opt = numerator/denomenator\n",
    "        self.m = m_opt\n",
    "\n",
    "        if self.fit_intercept:\n",
    "            b_opt = y_data_mean - m_opt * x_mean\n",
    "            self.b = b_opt\n",
    "            \n",
    "    def predict(self,x):\n",
    "        return self.__linear_model(x)\n",
    "    \n",
    "    def __linear_model(self,x):\n",
    "        if self.fit_intercept:\n",
    "            y_pred = self.m*x + self.b\n",
    "        else:\n",
    "            y_pred = self.m*x\n",
    "        return y_pred"
   ]
  },
  {
   "cell_type": "markdown",
   "metadata": {
    "slideshow": {
     "slide_type": "slide"
    }
   },
   "source": [
    "Let's compare the quality of fit with and without the intercept $b$"
   ]
  },
  {
   "cell_type": "code",
   "execution_count": 85,
   "metadata": {
    "slideshow": {
     "slide_type": "fragment"
    }
   },
   "outputs": [],
   "source": [
    "# create instance of class\n",
    "model1 = LinearRegression(fit_intercept=True)\n",
    "model1.fit(x_data,y_data)\n",
    "r2_1 = model1.score(x,y_data)\n",
    "\n",
    "model2 = LinearRegression(fit_intercept=False)\n",
    "model2.fit(x_data,y_data)\n",
    "r2_2 = model2.score(x,y_data)"
   ]
  },
  {
   "cell_type": "code",
   "execution_count": 109,
   "metadata": {
    "slideshow": {
     "slide_type": "slide"
    }
   },
   "outputs": [
    {
     "data": {
      "image/png": "[encoded data removed]",
      "text/plain": [
       "<Figure size 288x360 with 1 Axes>"
      ]
     },
     "metadata": {
      "needs_background": "light"
     },
     "output_type": "display_data"
    }
   ],
   "source": [
    "fig,ax =plt.subplots(1,1,figsize=(4,5))\n",
    "\n",
    "ax.bar([0,1],[r2_1,r2_2],width=0.6)\n",
    "ax.set_ylim(0,1.1)\n",
    "ax.set_xticks([0,1])\n",
    "ax.set_xticklabels(['model with b','model w/o b'],fontsize=14)\n",
    "ax.set_title('Model Comparison',fontsize=20)\n",
    "ax.set_ylabel(r'$R^2$ ',fontsize=14)\n",
    "plt.show()"
   ]
  },
  {
   "cell_type": "markdown",
   "metadata": {
    "slideshow": {
     "slide_type": "slide"
    }
   },
   "source": [
    "Finally, let's make a simple method `get_params` that returns the fit parameters $m$ and $b$:"
   ]
  },
  {
   "cell_type": "code",
   "execution_count": 90,
   "metadata": {
    "slideshow": {
     "slide_type": "fragment"
    }
   },
   "outputs": [],
   "source": [
    "class LinearRegression():\n",
    "    \n",
    "    def __init__(self,fit_intercept=True):\n",
    "        self.fit_intercept = fit_intercept\n",
    "        \n",
    "    def get_params(self):\n",
    "        \n",
    "        self.params = {}\n",
    "        self.params['m']=self.m\n",
    "        if self.fit_intercept:\n",
    "            self.params['b'] = self.b\n",
    "            \n",
    "        return self.params\n",
    "        \n",
    "    def fit(self,x,y_data):\n",
    "        \n",
    "        x_mean = np.mean(x)\n",
    "        y_data_mean = np.mean(y_data)\n",
    "        \n",
    "        numerator = np.sum((x-x_mean)*(y_data-y_data_mean))\n",
    "        denomenator = np.sum((x-x_mean)**2)\n",
    "    \n",
    "        m_opt = numerator/denomenator\n",
    "        self.m = m_opt\n",
    "\n",
    "        if self.fit_intercept:\n",
    "            b_opt = y_data_mean - m_opt * x_mean\n",
    "            self.b = b_opt\n",
    "            \n",
    "    def predict(self,x):\n",
    "        \n",
    "        return self.__linear_model(x)\n",
    "    \n",
    "    def __linear_model(self,x):\n",
    "        if self.fit_intercept:\n",
    "            y_pred = self.m*x + self.b\n",
    "        else:\n",
    "            y_pred = self.m*x\n",
    "        return y_pred\n",
    "\n",
    "    def score(self,x,y):\n",
    "        ss_res = np.sum((y - self.predict(x))**2) # residual sum of squares\n",
    "        ss_tot = np.sum((y - np.mean(y))**2) # total sum of squares\n",
    "\n",
    "        r2 = 1-ss_res/ss_tot\n",
    "        \n",
    "        return r2\n",
    "    \n",
    "    "
   ]
  },
  {
   "cell_type": "code",
   "execution_count": 91,
   "metadata": {
    "slideshow": {
     "slide_type": "slide"
    }
   },
   "outputs": [],
   "source": [
    "model = LinearRegression(fit_intercept=True)\n",
    "model.fit(x_data,y_data)"
   ]
  },
  {
   "cell_type": "code",
   "execution_count": 92,
   "metadata": {
    "slideshow": {
     "slide_type": "fragment"
    }
   },
   "outputs": [
    {
     "data": {
      "text/plain": [
       "2.490894245987839"
      ]
     },
     "execution_count": 92,
     "metadata": {},
     "output_type": "execute_result"
    }
   ],
   "source": [
    "# this is one way to extract the parameters\n",
    "model.m"
   ]
  },
  {
   "cell_type": "code",
   "execution_count": 93,
   "metadata": {
    "slideshow": {
     "slide_type": "fragment"
    }
   },
   "outputs": [
    {
     "name": "stdout",
     "output_type": "stream",
     "text": [
      "------\n",
      "params \n",
      "------\n",
      " {'m': 2.490894245987839, 'b': -3.542355463716307}\n"
     ]
    }
   ],
   "source": [
    "# this is another way with our new method\n",
    "params = model.get_params()\n",
    "print('------\\nparams \\n------\\n',params)"
   ]
  },
  {
   "cell_type": "markdown",
   "metadata": {
    "slideshow": {
     "slide_type": "slide"
    }
   },
   "source": [
    "# PROBLEM: Document this class with conventional syntax/formatting"
   ]
  },
  {
   "cell_type": "code",
   "execution_count": 95,
   "metadata": {
    "slideshow": {
     "slide_type": "fragment"
    }
   },
   "outputs": [
    {
     "ename": "IndentationError",
     "evalue": "unindent does not match any outer indentation level (<tokenize>, line 69)",
     "output_type": "error",
     "traceback": [
      "\u001b[1;36m  File \u001b[1;32m\"<tokenize>\"\u001b[1;36m, line \u001b[1;32m69\u001b[0m\n\u001b[1;33m    x_mean = np.mean(x)\u001b[0m\n\u001b[1;37m    ^\u001b[0m\n\u001b[1;31mIndentationError\u001b[0m\u001b[1;31m:\u001b[0m unindent does not match any outer indentation level\n"
     ]
    }
   ],
   "source": [
    "class LinearRegression():\n",
    "    \"\"\" \n",
    "    Ordinary Least Squares Regression\n",
    "    \n",
    "    \n",
    "    Parameters\n",
    "    ----------\n",
    "    \n",
    "    fit_intercept: : bool, optional, default True\n",
    "        Whether to calculate the intercept for this model. If set\n",
    "        to False, no intercept will be used in calculations\n",
    "        (i.e. data is expected to be centered).\n",
    "        \n",
    "    Attributes\n",
    "    ----------\n",
    "    m : scalar\n",
    "        Estimated slope for the linear regression problem.\n",
    "    \n",
    "    b : ?\n",
    "        ????????\n",
    "        \n",
    "    params : ?\n",
    "        ????????\n",
    "        \n",
    "    See Also\n",
    "    --------\n",
    "    sklearn.linear_model.Ridge : Ridge regression addresses some of the\n",
    "        problems of Ordinary Least Squares by imposing a penalty on the\n",
    "        size of the coefficients with l2 regularization.\n",
    "    sklearn.linear_model.Lasso : The Lasso is a linear model that estimates\n",
    "        sparse coefficients with l1 regularization.\n",
    "    sklearn.linear_model.ElasticNet : Elastic-Net is a linear regression\n",
    "        model trained with both l1 and l2 -norm regularization of the\n",
    "        coefficients.\n",
    "        \n",
    "    Examples\n",
    "    --------\n",
    "    >>> import numpy as np\n",
    "    >>> from sklearn.linear_model import LinearRegression\n",
    "    >>> X = np.array([[1, 1], [1, 2], [2, 2], [2, 3]])\n",
    "    >>> # y = 1 * x_0 + 2 * x_1 + 3\n",
    "    >>> y = np.dot(X, np.array([1, 2])) + 3\n",
    "    >>> reg = LinearRegression().fit(X, y)\n",
    "    >>> reg.score(X, y)\n",
    "    1.0\n",
    "    \n",
    "    \"\"\"\n",
    "    \n",
    "    def __init__(self,fit_intercept=True):\n",
    "        self.fit_intercept = fit_intercept\n",
    "    \n",
    "        \n",
    "    def fit(self,x,y_data):\n",
    "        \n",
    "         \"\"\"\n",
    "        Fit linear model.\n",
    "        Parameters\n",
    "        ----------\n",
    "        x : {array-like, sparse matrix} of shape (n_samples, n_features)\n",
    "            Training data\n",
    "        y : array-like of shape (n_samples,) or (n_samples, n_targets)\n",
    "            Target values. Will be cast to X's dtype if necessary\n",
    "\n",
    "        Returns\n",
    "        -------\n",
    "        self : returns an instance of self.\n",
    "        \"\"\"\n",
    "        \n",
    "        x_mean = np.mean(x)\n",
    "        y_data_mean = np.mean(y_data)\n",
    "        \n",
    "        numerator = np.sum((x-x_mean)*(y_data-y_data_mean))\n",
    "        denomenator = np.sum((x-x_mean)**2)\n",
    "    \n",
    "        m_opt = numerator/denomenator\n",
    "        self.m = m_opt\n",
    "\n",
    "        if self.fit_intercept:\n",
    "            b_opt = y_data_mean - m_opt * x_mean\n",
    "            self.b = b_opt\n",
    "            \n",
    "    def predict(self,x):\n",
    "        \"\"\" ?? \"\"\"\n",
    "        \n",
    "        return self.__linear_model(x)\n",
    "    \n",
    "    def __linear_model(self,x):\n",
    "        if self.fit_intercept:\n",
    "            y_pred = self.m*x + self.b\n",
    "        else:\n",
    "            y_pred = self.m*x\n",
    "        return y_pred\n",
    "\n",
    "    def score(self,x,y):\n",
    "        \"\"\" ?? \"\"\"\n",
    "        ss_res = np.sum((y - self.predict(x))**2) # residual sum of squares\n",
    "        ss_tot = np.sum((y - np.mean(y))**2) # total sum of squares\n",
    "\n",
    "        r2 = 1-ss_res/ss_tot\n",
    "        \n",
    "        return r2\n",
    "    \n",
    "    def get_params(self):\n",
    "        \"\"\" ?? \"\"\"\n",
    "        \n",
    "        self.params = {}\n",
    "        self.params['m']=self.m\n",
    "        if self.fit_intercept:\n",
    "            self.params['b'] = self.b\n",
    "            \n",
    "        return self.params\n",
    "    "
   ]
  },
  {
   "cell_type": "markdown",
   "metadata": {
    "slideshow": {
     "slide_type": "slide"
    }
   },
   "source": [
    "More on building custom sklearn estimators:\n",
    "    \n",
    "    * https://towardsdatascience.com/building-a-custom-model-in-scikit-learn-b0da965a1299\n",
    "        \n",
    "    * https://scikit-learn.org/stable/developers/develop.html\n",
    "    \n",
    "\n",
    "# Thanks!"
   ]
  },
  {
   "cell_type": "markdown",
   "metadata": {
    "slideshow": {
     "slide_type": "slide"
    }
   },
   "source": [
    "April is the cruellest month, breeding\n",
    "\n",
    "Lilacs out of the dead land, mixing\n",
    "\n",
    "Memory and desire, stirring\n",
    "\n",
    "Dull roots with spring rain. \n",
    "\n",
    "~ T.S. Eliot, \"The Wasteland\""
   ]
  },
  {
   "cell_type": "code",
   "execution_count": null,
   "metadata": {},
   "outputs": [],
   "source": []
  }
 ],
 "metadata": {
  "celltoolbar": "Slideshow",
  "kernelspec": {
   "display_name": "Python 3",
   "language": "python",
   "name": "python3"
  },
  "language_info": {
   "codemirror_mode": {
    "name": "ipython",
    "version": 3
   },
   "file_extension": ".py",
   "mimetype": "text/x-python",
   "name": "python",
   "nbconvert_exporter": "python",
   "pygments_lexer": "ipython3",
   "version": "3.7.3"
  }
 },
 "nbformat": 4,
 "nbformat_minor": 2
}
